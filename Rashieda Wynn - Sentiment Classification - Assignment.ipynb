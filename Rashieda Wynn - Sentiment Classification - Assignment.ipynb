{
 "cells": [
  {
   "cell_type": "code",
   "execution_count": 1,
   "id": "bc3b9c9c",
   "metadata": {},
   "outputs": [
    {
     "name": "stderr",
     "output_type": "stream",
     "text": [
      "[nltk_data] Downloading package stopwords to\n",
      "[nltk_data]     C:\\Users\\rashi\\AppData\\Roaming\\nltk_data...\n",
      "[nltk_data]   Package stopwords is already up-to-date!\n",
      "[nltk_data] Downloading package wordnet to\n",
      "[nltk_data]     C:\\Users\\rashi\\AppData\\Roaming\\nltk_data...\n",
      "[nltk_data]   Package wordnet is already up-to-date!\n",
      "[nltk_data] Error loading cmw-1.4: Package 'cmw-1.4' not found in\n",
      "[nltk_data]     index\n"
     ]
    }
   ],
   "source": [
    "#Load the libraries\n",
    "import pandas as pd\n",
    "import numpy as np\n",
    "import seaborn as sns\n",
    "import matplotlib.pyplot as plt\n",
    "import nltk\n",
    "nltk.download('stopwords')\n",
    "nltk.download('wordnet')\n",
    "nltk.download('cmw-1.4')\n",
    "\n",
    "#Importing libraries to pre-process data\n",
    "from sklearn import preprocessing\n",
    "from sklearn.model_selection import train_test_split\n",
    "from sklearn.feature_extraction.text import TfidfVectorizer\n",
    "from nltk.corpus import stopwords\n",
    "from nltk.stem.porter import PorterStemmer\n",
    "from nltk.stem import WordNetLemmatizer\n",
    "from nltk.tokenize import word_tokenize, sent_tokenize\n",
    "from bs4 import BeautifulSoup\n",
    "from nltk.stem import LancasterStemmer, WordNetLemmatizer\n",
    "from sklearn.linear_model import LogisticRegression, SGDClassifier\n",
    "from nltk.tokenize.toktok import ToktokTokenizer\n",
    "from sklearn.metrics import classification_report, confusion_matrix, accuracy_score, roc_auc_score\n",
    "\n",
    "#Import package for building conventional supervised learning models\n",
    "from sklearn.tree import DecisionTreeClassifier\n",
    "from sklearn.neighbors import KNeighborsClassifier\n",
    "from sklearn.ensemble import GradientBoostingClassifier\n",
    "from sklearn.model_selection import GridSearchCV\n",
    "from sklearn.ensemble import RandomForestClassifier\n",
    "from lightgbm import LGBMClassifier\n",
    "\n",
    "#Import methods for building neural networks\n",
    "import tensorflow as tf\n",
    "from tensorflow import keras\n",
    "from keras import layers\n",
    "from keras.models import Sequential\n",
    "from tensorflow.keras.layers import Dense, Dropout\n",
    "from tensorflow.keras.optimizers import RMSprop\n",
    "from keras.callbacks import EarlyStopping\n",
    "\n",
    "#Import 'KerasClassifier' from 'keras' to connect neural networks with GridSearch and sklearn\n",
    "from keras.wrappers.scikit_learn import KerasClassifier\n",
    "\n",
    "import os\n",
    "import warnings\n",
    "warnings.filterwarnings('ignore')"
   ]
  },
  {
   "cell_type": "code",
   "execution_count": 2,
   "id": "42365173",
   "metadata": {},
   "outputs": [
    {
     "name": "stdout",
     "output_type": "stream",
     "text": [
      "(7463, 2)\n"
     ]
    },
    {
     "data": {
      "text/html": [
       "<div>\n",
       "<style scoped>\n",
       "    .dataframe tbody tr th:only-of-type {\n",
       "        vertical-align: middle;\n",
       "    }\n",
       "\n",
       "    .dataframe tbody tr th {\n",
       "        vertical-align: top;\n",
       "    }\n",
       "\n",
       "    .dataframe thead th {\n",
       "        text-align: right;\n",
       "    }\n",
       "</style>\n",
       "<table border=\"1\" class=\"dataframe\">\n",
       "  <thead>\n",
       "    <tr style=\"text-align: right;\">\n",
       "      <th></th>\n",
       "      <th>Reviews</th>\n",
       "      <th>Sentiments</th>\n",
       "    </tr>\n",
       "  </thead>\n",
       "  <tbody>\n",
       "    <tr>\n",
       "      <th>0</th>\n",
       "      <td>bittersweet comedy/drama full of life , hand g...</td>\n",
       "      <td>pos</td>\n",
       "    </tr>\n",
       "    <tr>\n",
       "      <th>1</th>\n",
       "      <td>you have to pay attention to follow all the st...</td>\n",
       "      <td>pos</td>\n",
       "    </tr>\n",
       "    <tr>\n",
       "      <th>2</th>\n",
       "      <td>overall , interesting as a documentary -- but ...</td>\n",
       "      <td>pos</td>\n",
       "    </tr>\n",
       "    <tr>\n",
       "      <th>3</th>\n",
       "      <td>precocious smarter-than-thou wayward teen stru...</td>\n",
       "      <td>pos</td>\n",
       "    </tr>\n",
       "    <tr>\n",
       "      <th>4</th>\n",
       "      <td>nicolas philibert observes life inside a one-r...</td>\n",
       "      <td>pos</td>\n",
       "    </tr>\n",
       "    <tr>\n",
       "      <th>5</th>\n",
       "      <td>such an incomprehensible mess that it feels le...</td>\n",
       "      <td>neg</td>\n",
       "    </tr>\n",
       "    <tr>\n",
       "      <th>6</th>\n",
       "      <td>i won't argue with anyone who calls 'slackers'...</td>\n",
       "      <td>pos</td>\n",
       "    </tr>\n",
       "    <tr>\n",
       "      <th>7</th>\n",
       "      <td>here's a self-congratulatory 3d imax rah-rah .</td>\n",
       "      <td>neg</td>\n",
       "    </tr>\n",
       "    <tr>\n",
       "      <th>8</th>\n",
       "      <td>rumor , a muddled drama about coming to terms ...</td>\n",
       "      <td>neg</td>\n",
       "    </tr>\n",
       "    <tr>\n",
       "      <th>9</th>\n",
       "      <td>the story is so light and sugary that were it ...</td>\n",
       "      <td>neg</td>\n",
       "    </tr>\n",
       "  </tbody>\n",
       "</table>\n",
       "</div>"
      ],
      "text/plain": [
       "                                             Reviews Sentiments\n",
       "0  bittersweet comedy/drama full of life , hand g...        pos\n",
       "1  you have to pay attention to follow all the st...        pos\n",
       "2  overall , interesting as a documentary -- but ...        pos\n",
       "3  precocious smarter-than-thou wayward teen stru...        pos\n",
       "4  nicolas philibert observes life inside a one-r...        pos\n",
       "5  such an incomprehensible mess that it feels le...        neg\n",
       "6  i won't argue with anyone who calls 'slackers'...        pos\n",
       "7    here's a self-congratulatory 3d imax rah-rah .         neg\n",
       "8  rumor , a muddled drama about coming to terms ...        neg\n",
       "9  the story is so light and sugary that were it ...        neg"
      ]
     },
     "execution_count": 2,
     "metadata": {},
     "output_type": "execute_result"
    }
   ],
   "source": [
    "#Review the training data set\n",
    "reviews_df = pd.read_csv(r'D:\\Data Analyst Boot Camp\\Assignment Data\\Assignment 7\\train_file_kaggle.csv')\n",
    "print(reviews_df.shape)\n",
    "reviews_df.head(10)"
   ]
  },
  {
   "cell_type": "code",
   "execution_count": 3,
   "id": "7deaed52",
   "metadata": {},
   "outputs": [],
   "source": [
    "#Tokenization of text\n",
    "tokenizer = ToktokTokenizer()\n",
    "#Setting English stopwords\n",
    "stopword_list=nltk.corpus.stopwords.words('english')"
   ]
  },
  {
   "cell_type": "code",
   "execution_count": 4,
   "id": "4d168f64",
   "metadata": {},
   "outputs": [
    {
     "name": "stdout",
     "output_type": "stream",
     "text": [
      "{\"hasn't\", 'against', 'further', 'by', 'off', 'll', 'of', 'weren', \"isn't\", 'yours', 'doesn', 'ourselves', 'before', 'should', 'will', 'who', 'mightn', 'myself', 'an', 'there', 'both', 'very', \"wouldn't\", 'all', 'from', \"she's\", 'needn', 'is', 'hers', 'me', \"you'll\", 'why', 'with', 'was', 'as', 'his', 't', 'you', 'my', 'shouldn', 'haven', \"should've\", \"it's\", 'some', \"aren't\", \"wasn't\", 'few', 'below', 'were', 'y', \"that'll\", 'they', \"haven't\", 'so', \"don't\", 'again', 'that', 'if', 'mustn', 'this', 'them', \"won't\", 'when', 'own', 'nor', 'and', 'at', 'once', 'where', 'd', \"mustn't\", 'more', 'now', 'down', 'she', 'we', 'during', 'whom', 'are', 'but', 'to', 'shan', 'wasn', 'having', 'between', 'm', 'theirs', 'be', 'not', \"weren't\", 'o', 'am', 'ain', \"you'd\", 're', 'a', 'these', 'while', 'out', 'here', \"didn't\", 'each', 'such', 'only', 'over', \"hadn't\", 'do', 'herself', 'under', 'being', \"couldn't\", 'above', 'your', 'didn', 'which', 'did', \"shouldn't\", 'aren', 'has', \"doesn't\", 'just', 'wouldn', 'same', \"you've\", 'can', 'its', 'doing', 'the', 'on', \"needn't\", 'no', 'because', 'don', 's', 'hadn', 'ma', 'i', 'their', 'he', 'about', 'yourselves', 'had', 'yourself', 'how', 've', \"mightn't\", 'in', 'been', 'any', 'it', 'for', 'up', 'other', 'itself', 'too', 'himself', 'than', 'hasn', 'until', 'those', 'or', 'themselves', 'her', 'then', 'couldn', 'our', 'does', 'into', 'have', 'won', \"you're\", \"shan't\", 'most', 'him', 'through', 'ours', 'after', 'isn', 'what'}\n"
     ]
    }
   ],
   "source": [
    "#Set stopwords to english\n",
    "stop = set(stopwords.words('english'))\n",
    "print(stop)\n",
    "\n",
    "#Removed the stopwords\n",
    "def remove_stopwords(text, is_lower_case = False):\n",
    "    tokens = tokenizer.tokenize(text)\n",
    "    tokens = [token.strip() for token in tokens]\n",
    "    if is_lower_case:\n",
    "        filtered_tokens = [token for token in tokens if token not in stopword_list]\n",
    "    else:\n",
    "        filtered_tokens = [token for token in tokens if token.lower() not in stopword_list]\n",
    "    filtered_text = ''.join(filtered_tokens)\n",
    "    return filtered_text\n",
    "\n",
    "#Apply function on review column\n",
    "\n",
    "reviews_df['Reviews']=reviews_df['Reviews'].apply(remove_stopwords)\n"
   ]
  },
  {
   "cell_type": "code",
   "execution_count": 5,
   "id": "40436f83",
   "metadata": {},
   "outputs": [],
   "source": [
    "#Stemming the text \n",
    "def simple_stemmer(text):\n",
    "    ps=nltk.porter.PorterStemmer()\n",
    "    text=''.join([ps.stem(word) for word in text.split()])\n",
    "    return text\n",
    "\n",
    "#Apply function on review columnn\n",
    "reviews_df['Reviews']=reviews_df['Reviews'].apply(simple_stemmer)"
   ]
  },
  {
   "cell_type": "code",
   "execution_count": 6,
   "id": "af8058b0",
   "metadata": {},
   "outputs": [],
   "source": [
    "#Lemmatization\n",
    "def simple_lemmatize(text):\n",
    "    wnl=nltk.WordNetLemmatizer()\n",
    "    text=''.join([wnl.lemmatize(word) for word in text.split()])\n",
    "    return text\n",
    "\n",
    "#Apply function on review column\n",
    "reviews_df['Reviews']=reviews_df['Reviews'].apply(simple_lemmatize)"
   ]
  },
  {
   "cell_type": "code",
   "execution_count": 7,
   "id": "72364470",
   "metadata": {},
   "outputs": [
    {
     "data": {
      "text/html": [
       "<div>\n",
       "<style scoped>\n",
       "    .dataframe tbody tr th:only-of-type {\n",
       "        vertical-align: middle;\n",
       "    }\n",
       "\n",
       "    .dataframe tbody tr th {\n",
       "        vertical-align: top;\n",
       "    }\n",
       "\n",
       "    .dataframe thead th {\n",
       "        text-align: right;\n",
       "    }\n",
       "</style>\n",
       "<table border=\"1\" class=\"dataframe\">\n",
       "  <thead>\n",
       "    <tr style=\"text-align: right;\">\n",
       "      <th></th>\n",
       "      <th>Reviews</th>\n",
       "      <th>Sentiments</th>\n",
       "    </tr>\n",
       "  </thead>\n",
       "  <tbody>\n",
       "    <tr>\n",
       "      <th>0</th>\n",
       "      <td>bittersweetcomedy/dramafulllife,handgestures,r...</td>\n",
       "      <td>pos</td>\n",
       "    </tr>\n",
       "    <tr>\n",
       "      <th>1</th>\n",
       "      <td>payattentionfollowstories,'interesting.moviewe...</td>\n",
       "      <td>pos</td>\n",
       "    </tr>\n",
       "    <tr>\n",
       "      <th>2</th>\n",
       "      <td>overall,interestingdocumentary--imaxy.</td>\n",
       "      <td>pos</td>\n",
       "    </tr>\n",
       "    <tr>\n",
       "      <th>3</th>\n",
       "      <td>precocioussmarter-than-thouwaywardteenstruggle...</td>\n",
       "      <td>pos</td>\n",
       "    </tr>\n",
       "    <tr>\n",
       "      <th>4</th>\n",
       "      <td>nicolasphilibertobserveslifeinsideone-roomscho...</td>\n",
       "      <td>pos</td>\n",
       "    </tr>\n",
       "  </tbody>\n",
       "</table>\n",
       "</div>"
      ],
      "text/plain": [
       "                                             Reviews Sentiments\n",
       "0  bittersweetcomedy/dramafulllife,handgestures,r...        pos\n",
       "1  payattentionfollowstories,'interesting.moviewe...        pos\n",
       "2             overall,interestingdocumentary--imaxy.        pos\n",
       "3  precocioussmarter-than-thouwaywardteenstruggle...        pos\n",
       "4  nicolasphilibertobserveslifeinsideone-roomscho...        pos"
      ]
     },
     "execution_count": 7,
     "metadata": {},
     "output_type": "execute_result"
    }
   ],
   "source": [
    "#Review the dataset after using NLP techniques to pre-process\n",
    "reviews_df.head()"
   ]
  },
  {
   "cell_type": "code",
   "execution_count": 8,
   "id": "d5afdae3",
   "metadata": {},
   "outputs": [
    {
     "name": "stdout",
     "output_type": "stream",
     "text": [
      "(5224, 2)\n",
      "(2239, 2)\n"
     ]
    }
   ],
   "source": [
    "train, val = train_test_split(reviews_df, test_size = 0.3)\n",
    "print(train.shape)\n",
    "print(val.shape)"
   ]
  },
  {
   "cell_type": "code",
   "execution_count": 9,
   "id": "32555172",
   "metadata": {},
   "outputs": [
    {
     "name": "stdout",
     "output_type": "stream",
     "text": [
      "Tfidf_train: (5224, 500)\n",
      "Tfidf_val: (2239, 500)\n"
     ]
    }
   ],
   "source": [
    "train_reviews = list(train['Reviews'])\n",
    "val_reviews = list(val['Reviews'])\n",
    "\n",
    "#Tfidf Vectorizer\n",
    "#Chose 500 features for the vectorization\n",
    "tv = TfidfVectorizer(max_features = 500, use_idf = True, ngram_range = (1,2))\n",
    "tv.fit(train_reviews)\n",
    "\n",
    "#transformed train reviews\n",
    "tv_train_reviews = tv.fit_transform(train_reviews)\n",
    "#transformed val reviews\n",
    "tv_val_reviews = tv.transform(val_reviews)\n",
    "\n",
    "print('Tfidf_train:', tv_train_reviews.shape)\n",
    "print('Tfidf_val:', tv_val_reviews.shape)"
   ]
  },
  {
   "cell_type": "code",
   "execution_count": 10,
   "id": "6a06efb0",
   "metadata": {},
   "outputs": [
    {
     "name": "stdout",
     "output_type": "stream",
     "text": [
      "      Sentiments\n",
      "0              1\n",
      "1              1\n",
      "2              0\n",
      "3              1\n",
      "4              1\n",
      "...          ...\n",
      "5219           0\n",
      "5220           0\n",
      "5221           1\n",
      "5222           1\n",
      "5223           1\n",
      "\n",
      "[5224 rows x 1 columns]\n",
      "      Sentiments\n",
      "0              1\n",
      "1              1\n",
      "2              1\n",
      "3              0\n",
      "4              0\n",
      "...          ...\n",
      "2234           1\n",
      "2235           1\n",
      "2236           0\n",
      "2237           1\n",
      "2238           0\n",
      "\n",
      "[2239 rows x 1 columns]\n"
     ]
    }
   ],
   "source": [
    "#Split the sentiment data\n",
    "train_sentiments = train['Sentiments']\n",
    "val_sentiments = val['Sentiments']\n",
    "\n",
    "#Converting 'pos' and 'neg' classes to '1' and '0' in the training data set output\n",
    "le = preprocessing.LabelEncoder()\n",
    "le.fit(train_sentiments)\n",
    "train_sentiments = le.transform(train_sentiments)\n",
    "train_sentiments = pd.DataFrame(train_sentiments, columns = ['Sentiments'])\n",
    "\n",
    "#Converting 'pos' and 'neg' classes to '1' and '0' in the valdiation data set output\n",
    "le = preprocessing.LabelEncoder()\n",
    "le.fit(val_sentiments)\n",
    "val_sentiments = le.transform(val_sentiments)\n",
    "val_sentiments = pd.DataFrame(val_sentiments, columns = ['Sentiments'])\n",
    "\n",
    "print(train_sentiments)\n",
    "print(val_sentiments)"
   ]
  },
  {
   "cell_type": "code",
   "execution_count": 11,
   "id": "b82de276",
   "metadata": {},
   "outputs": [
    {
     "name": "stdout",
     "output_type": "stream",
     "text": [
      "Fitting 5 folds for each of 30 candidates, totalling 150 fits\n"
     ]
    },
    {
     "data": {
      "text/html": [
       "<div>\n",
       "<style scoped>\n",
       "    .dataframe tbody tr th:only-of-type {\n",
       "        vertical-align: middle;\n",
       "    }\n",
       "\n",
       "    .dataframe tbody tr th {\n",
       "        vertical-align: top;\n",
       "    }\n",
       "\n",
       "    .dataframe thead th {\n",
       "        text-align: right;\n",
       "    }\n",
       "</style>\n",
       "<table border=\"1\" class=\"dataframe\">\n",
       "  <thead>\n",
       "    <tr style=\"text-align: right;\">\n",
       "      <th></th>\n",
       "      <th>Training Acc</th>\n",
       "      <th>Valdation Acc</th>\n",
       "    </tr>\n",
       "  </thead>\n",
       "  <tbody>\n",
       "    <tr>\n",
       "      <th>Logistic</th>\n",
       "      <td>0.587098</td>\n",
       "      <td>0.537293</td>\n",
       "    </tr>\n",
       "    <tr>\n",
       "      <th>Tree</th>\n",
       "      <td>0.535413</td>\n",
       "      <td>0.527021</td>\n",
       "    </tr>\n",
       "    <tr>\n",
       "      <th>KNN</th>\n",
       "      <td>0.576953</td>\n",
       "      <td>0.538187</td>\n",
       "    </tr>\n",
       "  </tbody>\n",
       "</table>\n",
       "</div>"
      ],
      "text/plain": [
       "          Training Acc  Valdation Acc\n",
       "Logistic      0.587098       0.537293\n",
       "Tree          0.535413       0.527021\n",
       "KNN           0.576953       0.538187"
      ]
     },
     "execution_count": 11,
     "metadata": {},
     "output_type": "execute_result"
    }
   ],
   "source": [
    "#Log Model\n",
    "log_clf_best = LogisticRegression(penalty = 'none', solver= 'lbfgs', random_state = 0,\n",
    "                                 max_iter =100).fit(tv_train_reviews, train_sentiments)\n",
    "log_train_acc = log_clf_best.score(tv_train_reviews, train_sentiments)\n",
    "log_val_acc = log_clf_best.score(tv_val_reviews, val_sentiments)\n",
    "\n",
    "#Tree Model\n",
    "tree_clf_best = DecisionTreeClassifier(random_state = 0, max_depth = 50)\n",
    "tree_clf_best.fit(tv_train_reviews, train_sentiments)\n",
    "\n",
    "tree_train_acc = tree_clf_best.score(tv_train_reviews, train_sentiments)\n",
    "tree_val_acc = tree_clf_best.score(tv_val_reviews, val_sentiments)\n",
    "\n",
    "#KNN Model\n",
    "knn_clf = KNeighborsClassifier()\n",
    "param_grid = {'n_neighbors': np.arange(1,31)} #Parameter Range\n",
    "\n",
    "#defining parameter range\n",
    "grid = GridSearchCV (knn_clf, param_grid, cv = 5, scoring = 'accuracy', return_train_score = True, verbose = 1)\n",
    "grid_search = grid.fit(tv_train_reviews, train_sentiments)\n",
    "\n",
    "#inserting the best parameter and re-fitting the KNN Model\n",
    "knn_clf_best = KNeighborsClassifier(n_neighbors = grid_search.best_params_['n_neighbors'])\n",
    "\n",
    "knn_clf_best.fit(tv_train_reviews, train_sentiments)\n",
    "knn_train_acc = knn_clf_best.score(tv_train_reviews, train_sentiments)\n",
    "knn_val_acc = knn_clf_best.score(tv_val_reviews, val_sentiments)\n",
    "\n",
    "#Tabulating our results for training and validation accuracy\n",
    "pd.DataFrame ([[log_train_acc, log_val_acc],[tree_train_acc, tree_val_acc],\n",
    "              [knn_train_acc, knn_val_acc]], columns = ['Training Acc','Valdation Acc'],\n",
    "             index = ['Logistic', 'Tree','KNN'])\n"
   ]
  },
  {
   "cell_type": "code",
   "execution_count": 12,
   "id": "d48092cc",
   "metadata": {},
   "outputs": [
    {
     "data": {
      "text/html": [
       "<style>#sk-container-id-1 {color: black;background-color: white;}#sk-container-id-1 pre{padding: 0;}#sk-container-id-1 div.sk-toggleable {background-color: white;}#sk-container-id-1 label.sk-toggleable__label {cursor: pointer;display: block;width: 100%;margin-bottom: 0;padding: 0.3em;box-sizing: border-box;text-align: center;}#sk-container-id-1 label.sk-toggleable__label-arrow:before {content: \"▸\";float: left;margin-right: 0.25em;color: #696969;}#sk-container-id-1 label.sk-toggleable__label-arrow:hover:before {color: black;}#sk-container-id-1 div.sk-estimator:hover label.sk-toggleable__label-arrow:before {color: black;}#sk-container-id-1 div.sk-toggleable__content {max-height: 0;max-width: 0;overflow: hidden;text-align: left;background-color: #f0f8ff;}#sk-container-id-1 div.sk-toggleable__content pre {margin: 0.2em;color: black;border-radius: 0.25em;background-color: #f0f8ff;}#sk-container-id-1 input.sk-toggleable__control:checked~div.sk-toggleable__content {max-height: 200px;max-width: 100%;overflow: auto;}#sk-container-id-1 input.sk-toggleable__control:checked~label.sk-toggleable__label-arrow:before {content: \"▾\";}#sk-container-id-1 div.sk-estimator input.sk-toggleable__control:checked~label.sk-toggleable__label {background-color: #d4ebff;}#sk-container-id-1 div.sk-label input.sk-toggleable__control:checked~label.sk-toggleable__label {background-color: #d4ebff;}#sk-container-id-1 input.sk-hidden--visually {border: 0;clip: rect(1px 1px 1px 1px);clip: rect(1px, 1px, 1px, 1px);height: 1px;margin: -1px;overflow: hidden;padding: 0;position: absolute;width: 1px;}#sk-container-id-1 div.sk-estimator {font-family: monospace;background-color: #f0f8ff;border: 1px dotted black;border-radius: 0.25em;box-sizing: border-box;margin-bottom: 0.5em;}#sk-container-id-1 div.sk-estimator:hover {background-color: #d4ebff;}#sk-container-id-1 div.sk-parallel-item::after {content: \"\";width: 100%;border-bottom: 1px solid gray;flex-grow: 1;}#sk-container-id-1 div.sk-label:hover label.sk-toggleable__label {background-color: #d4ebff;}#sk-container-id-1 div.sk-serial::before {content: \"\";position: absolute;border-left: 1px solid gray;box-sizing: border-box;top: 0;bottom: 0;left: 50%;z-index: 0;}#sk-container-id-1 div.sk-serial {display: flex;flex-direction: column;align-items: center;background-color: white;padding-right: 0.2em;padding-left: 0.2em;position: relative;}#sk-container-id-1 div.sk-item {position: relative;z-index: 1;}#sk-container-id-1 div.sk-parallel {display: flex;align-items: stretch;justify-content: center;background-color: white;position: relative;}#sk-container-id-1 div.sk-item::before, #sk-container-id-1 div.sk-parallel-item::before {content: \"\";position: absolute;border-left: 1px solid gray;box-sizing: border-box;top: 0;bottom: 0;left: 50%;z-index: -1;}#sk-container-id-1 div.sk-parallel-item {display: flex;flex-direction: column;z-index: 1;position: relative;background-color: white;}#sk-container-id-1 div.sk-parallel-item:first-child::after {align-self: flex-end;width: 50%;}#sk-container-id-1 div.sk-parallel-item:last-child::after {align-self: flex-start;width: 50%;}#sk-container-id-1 div.sk-parallel-item:only-child::after {width: 0;}#sk-container-id-1 div.sk-dashed-wrapped {border: 1px dashed gray;margin: 0 0.4em 0.5em 0.4em;box-sizing: border-box;padding-bottom: 0.4em;background-color: white;}#sk-container-id-1 div.sk-label label {font-family: monospace;font-weight: bold;display: inline-block;line-height: 1.2em;}#sk-container-id-1 div.sk-label-container {text-align: center;}#sk-container-id-1 div.sk-container {/* jupyter's `normalize.less` sets `[hidden] { display: none; }` but bootstrap.min.css set `[hidden] { display: none !important; }` so we also need the `!important` here to be able to override the default hidden behavior on the sphinx rendered scikit-learn.org. See: https://github.com/scikit-learn/scikit-learn/issues/21755 */display: inline-block !important;position: relative;}#sk-container-id-1 div.sk-text-repr-fallback {display: none;}</style><div id=\"sk-container-id-1\" class=\"sk-top-container\"><div class=\"sk-text-repr-fallback\"><pre>RandomForestClassifier(class_weight=&#x27;balanced&#x27;, max_depth=5, n_estimators=200,\n",
       "                       random_state=123)</pre><b>In a Jupyter environment, please rerun this cell to show the HTML representation or trust the notebook. <br />On GitHub, the HTML representation is unable to render, please try loading this page with nbviewer.org.</b></div><div class=\"sk-container\" hidden><div class=\"sk-item\"><div class=\"sk-estimator sk-toggleable\"><input class=\"sk-toggleable__control sk-hidden--visually\" id=\"sk-estimator-id-1\" type=\"checkbox\" checked><label for=\"sk-estimator-id-1\" class=\"sk-toggleable__label sk-toggleable__label-arrow\">RandomForestClassifier</label><div class=\"sk-toggleable__content\"><pre>RandomForestClassifier(class_weight=&#x27;balanced&#x27;, max_depth=5, n_estimators=200,\n",
       "                       random_state=123)</pre></div></div></div></div></div>"
      ],
      "text/plain": [
       "RandomForestClassifier(class_weight='balanced', max_depth=5, n_estimators=200,\n",
       "                       random_state=123)"
      ]
     },
     "execution_count": 12,
     "metadata": {},
     "output_type": "execute_result"
    }
   ],
   "source": [
    "#Create a random forest classifier and fit it to the data\n",
    "rf = RandomForestClassifier(n_estimators = 200,\n",
    "                           max_depth = 5,\n",
    "                           class_weight = 'balanced',\n",
    "                           random_state = 123)\n",
    "rf.fit(tv_train_reviews, train_sentiments)"
   ]
  },
  {
   "cell_type": "code",
   "execution_count": 13,
   "id": "a341da84",
   "metadata": {},
   "outputs": [],
   "source": [
    "#Obtain prediction on the training and validation sets\n",
    "y_pred_train = rf.predict(tv_train_reviews)\n",
    "y_pred_val = rf.predict(tv_val_reviews)\n"
   ]
  },
  {
   "cell_type": "code",
   "execution_count": 14,
   "id": "a56b16cd",
   "metadata": {},
   "outputs": [
    {
     "name": "stdout",
     "output_type": "stream",
     "text": [
      "\n",
      " Confusion matrix on the training dataset:\n",
      " [[ 465 2151]\n",
      " [ 103 2505]]\n",
      "\n",
      " Confusion matrix on the validation dataset:\n",
      " [[ 125  968]\n",
      " [  73 1073]]\n",
      "\n",
      " AUC of ROC on the training dataset:\n",
      " 0.5691292142736534\n",
      "\n",
      " AUC of ROC on the validation dataset:\n",
      " 0.5253321549636031\n"
     ]
    }
   ],
   "source": [
    "#Evaluate the random forest model on the training and validation sets using a confusion matrix and AUF of ROC\n",
    "print('\\n Confusion matrix on the training dataset:\\n',confusion_matrix(train_sentiments, y_pred_train))\n",
    "print('\\n Confusion matrix on the validation dataset:\\n',confusion_matrix(val_sentiments, y_pred_val))\n",
    "print('\\n AUC of ROC on the training dataset:\\n', roc_auc_score(train_sentiments, y_pred_train))\n",
    "print('\\n AUC of ROC on the validation dataset:\\n', roc_auc_score(val_sentiments, y_pred_val))"
   ]
  },
  {
   "cell_type": "code",
   "execution_count": 15,
   "id": "c566db86",
   "metadata": {},
   "outputs": [
    {
     "data": {
      "text/html": [
       "<style>#sk-container-id-2 {color: black;background-color: white;}#sk-container-id-2 pre{padding: 0;}#sk-container-id-2 div.sk-toggleable {background-color: white;}#sk-container-id-2 label.sk-toggleable__label {cursor: pointer;display: block;width: 100%;margin-bottom: 0;padding: 0.3em;box-sizing: border-box;text-align: center;}#sk-container-id-2 label.sk-toggleable__label-arrow:before {content: \"▸\";float: left;margin-right: 0.25em;color: #696969;}#sk-container-id-2 label.sk-toggleable__label-arrow:hover:before {color: black;}#sk-container-id-2 div.sk-estimator:hover label.sk-toggleable__label-arrow:before {color: black;}#sk-container-id-2 div.sk-toggleable__content {max-height: 0;max-width: 0;overflow: hidden;text-align: left;background-color: #f0f8ff;}#sk-container-id-2 div.sk-toggleable__content pre {margin: 0.2em;color: black;border-radius: 0.25em;background-color: #f0f8ff;}#sk-container-id-2 input.sk-toggleable__control:checked~div.sk-toggleable__content {max-height: 200px;max-width: 100%;overflow: auto;}#sk-container-id-2 input.sk-toggleable__control:checked~label.sk-toggleable__label-arrow:before {content: \"▾\";}#sk-container-id-2 div.sk-estimator input.sk-toggleable__control:checked~label.sk-toggleable__label {background-color: #d4ebff;}#sk-container-id-2 div.sk-label input.sk-toggleable__control:checked~label.sk-toggleable__label {background-color: #d4ebff;}#sk-container-id-2 input.sk-hidden--visually {border: 0;clip: rect(1px 1px 1px 1px);clip: rect(1px, 1px, 1px, 1px);height: 1px;margin: -1px;overflow: hidden;padding: 0;position: absolute;width: 1px;}#sk-container-id-2 div.sk-estimator {font-family: monospace;background-color: #f0f8ff;border: 1px dotted black;border-radius: 0.25em;box-sizing: border-box;margin-bottom: 0.5em;}#sk-container-id-2 div.sk-estimator:hover {background-color: #d4ebff;}#sk-container-id-2 div.sk-parallel-item::after {content: \"\";width: 100%;border-bottom: 1px solid gray;flex-grow: 1;}#sk-container-id-2 div.sk-label:hover label.sk-toggleable__label {background-color: #d4ebff;}#sk-container-id-2 div.sk-serial::before {content: \"\";position: absolute;border-left: 1px solid gray;box-sizing: border-box;top: 0;bottom: 0;left: 50%;z-index: 0;}#sk-container-id-2 div.sk-serial {display: flex;flex-direction: column;align-items: center;background-color: white;padding-right: 0.2em;padding-left: 0.2em;position: relative;}#sk-container-id-2 div.sk-item {position: relative;z-index: 1;}#sk-container-id-2 div.sk-parallel {display: flex;align-items: stretch;justify-content: center;background-color: white;position: relative;}#sk-container-id-2 div.sk-item::before, #sk-container-id-2 div.sk-parallel-item::before {content: \"\";position: absolute;border-left: 1px solid gray;box-sizing: border-box;top: 0;bottom: 0;left: 50%;z-index: -1;}#sk-container-id-2 div.sk-parallel-item {display: flex;flex-direction: column;z-index: 1;position: relative;background-color: white;}#sk-container-id-2 div.sk-parallel-item:first-child::after {align-self: flex-end;width: 50%;}#sk-container-id-2 div.sk-parallel-item:last-child::after {align-self: flex-start;width: 50%;}#sk-container-id-2 div.sk-parallel-item:only-child::after {width: 0;}#sk-container-id-2 div.sk-dashed-wrapped {border: 1px dashed gray;margin: 0 0.4em 0.5em 0.4em;box-sizing: border-box;padding-bottom: 0.4em;background-color: white;}#sk-container-id-2 div.sk-label label {font-family: monospace;font-weight: bold;display: inline-block;line-height: 1.2em;}#sk-container-id-2 div.sk-label-container {text-align: center;}#sk-container-id-2 div.sk-container {/* jupyter's `normalize.less` sets `[hidden] { display: none; }` but bootstrap.min.css set `[hidden] { display: none !important; }` so we also need the `!important` here to be able to override the default hidden behavior on the sphinx rendered scikit-learn.org. See: https://github.com/scikit-learn/scikit-learn/issues/21755 */display: inline-block !important;position: relative;}#sk-container-id-2 div.sk-text-repr-fallback {display: none;}</style><div id=\"sk-container-id-2\" class=\"sk-top-container\"><div class=\"sk-text-repr-fallback\"><pre>LGBMClassifier(class_weight=&#x27;balanced&#x27;, max_depth=5, n_estimators=200,\n",
       "               random_state=123)</pre><b>In a Jupyter environment, please rerun this cell to show the HTML representation or trust the notebook. <br />On GitHub, the HTML representation is unable to render, please try loading this page with nbviewer.org.</b></div><div class=\"sk-container\" hidden><div class=\"sk-item\"><div class=\"sk-estimator sk-toggleable\"><input class=\"sk-toggleable__control sk-hidden--visually\" id=\"sk-estimator-id-2\" type=\"checkbox\" checked><label for=\"sk-estimator-id-2\" class=\"sk-toggleable__label sk-toggleable__label-arrow\">LGBMClassifier</label><div class=\"sk-toggleable__content\"><pre>LGBMClassifier(class_weight=&#x27;balanced&#x27;, max_depth=5, n_estimators=200,\n",
       "               random_state=123)</pre></div></div></div></div></div>"
      ],
      "text/plain": [
       "LGBMClassifier(class_weight='balanced', max_depth=5, n_estimators=200,\n",
       "               random_state=123)"
      ]
     },
     "execution_count": 15,
     "metadata": {},
     "output_type": "execute_result"
    }
   ],
   "source": [
    "#Create a light gradient boosted tree classifier and fit it to the data\n",
    "gbm = LGBMClassifier(n_estimators = 200,\n",
    "                     learning_rate = 0.1,\n",
    "                    max_depth = 5, \n",
    "                    class_weight = 'balanced',\n",
    "                    random_state = 123)\n",
    "gbm.fit(tv_train_reviews, train_sentiments)\n"
   ]
  },
  {
   "cell_type": "code",
   "execution_count": 16,
   "id": "c032be62",
   "metadata": {},
   "outputs": [],
   "source": [
    "#Obtaining predictions on the training and validation sets\n",
    "gbm_pred_train = gbm.predict(tv_train_reviews)\n",
    "gbm_pred_val = gbm.predict(tv_val_reviews)"
   ]
  },
  {
   "cell_type": "code",
   "execution_count": 17,
   "id": "e2f1b05c",
   "metadata": {},
   "outputs": [
    {
     "name": "stdout",
     "output_type": "stream",
     "text": [
      "\n",
      " Confusion matrix on the training dataset:\n",
      " [[ 106 2510]\n",
      " [  41 2567]]\n",
      "\n",
      " Confusion matrix on the validation dataset:\n",
      " [[  29 1064]\n",
      " [  23 1123]]\n",
      "\n",
      " ROC AUC on the training dataset:\n",
      " 0.5123995093900677\n",
      "\n",
      " ROC AUC on the validation dataset:\n",
      " 0.5032313356932662\n",
      "\n",
      " Accuracy on the training dataset:\n",
      " 0.511676875957121\n",
      "\n",
      " Accuracy on the validation dataset:\n",
      " 0.5145154086645825\n"
     ]
    }
   ],
   "source": [
    "#Evaluate the gradient boosted model on the training and validation sets using confustion matrix and AUF of ROC\n",
    "print('\\n Confusion matrix on the training dataset:\\n', confusion_matrix(train_sentiments, gbm_pred_train))\n",
    "print('\\n Confusion matrix on the validation dataset:\\n', confusion_matrix(val_sentiments, gbm_pred_val))\n",
    "print('\\n ROC AUC on the training dataset:\\n', roc_auc_score(train_sentiments, gbm_pred_train))\n",
    "print('\\n ROC AUC on the validation dataset:\\n', roc_auc_score(val_sentiments, gbm_pred_val))\n",
    "print('\\n Accuracy on the training dataset:\\n', accuracy_score(train_sentiments, gbm_pred_train))\n",
    "print('\\n Accuracy on the validation dataset:\\n', accuracy_score(val_sentiments, gbm_pred_val))"
   ]
  },
  {
   "cell_type": "code",
   "execution_count": 18,
   "id": "e0fb573d",
   "metadata": {},
   "outputs": [
    {
     "name": "stdout",
     "output_type": "stream",
     "text": [
      "Fitting 3 folds for each of 900 candidates, totalling 2700 fits\n"
     ]
    },
    {
     "data": {
      "text/plain": [
       "{'learning_rate': 0.12000000000000001, 'max_depth': 3, 'n_estimators': 900}"
      ]
     },
     "execution_count": 18,
     "metadata": {},
     "output_type": "execute_result"
    }
   ],
   "source": [
    "#define an LGBM\n",
    "gbm = LGBMClassifier(class_weight = 'balanced',\n",
    "                    random_state = 123)\n",
    "\n",
    "#define parameter range\n",
    "param_grid = {'n_estimators': np.arange(100,1000,100),\n",
    "             'learning_rate': np.arange(0.02,0.22, 0.02),\n",
    "             'max_depth': np.arange(1,11,1)} #Parameter range\n",
    "\n",
    "#running  grid search to find the best combination of hyperparameters\n",
    "grid = GridSearchCV(gbm, param_grid, cv = 3, scoring='accuracy', return_train_score = True, verbose = 1)\n",
    "grid_search = grid.fit(tv_train_reviews, train_sentiments)\n",
    "\n",
    "grid_search.best_params_\n"
   ]
  },
  {
   "cell_type": "code",
   "execution_count": 19,
   "id": "91ad4174",
   "metadata": {},
   "outputs": [
    {
     "name": "stdout",
     "output_type": "stream",
     "text": [
      "Accuracy on the training dataset:\n",
      " 0.511676875957121\n",
      "\n",
      " Accuracy on the validation dataset:\n",
      " 0.5145154086645825\n"
     ]
    }
   ],
   "source": [
    "#Reuse the best parammeter combination and refitting the model\n",
    "gbm_best = LGBMClassifier(n_estimators = grid_search.best_params_['n_estimators'],\n",
    "                         learning_rate = grid_search.best_params_['learning_rate'],\n",
    "                         max_depth = grid_search.best_params_['max_depth'],\n",
    "                         class_weight = 'balanced',\n",
    "                         random_state = 123)\n",
    "\n",
    "gbm_best.fit(tv_train_reviews, train_sentiments)\n",
    "\n",
    "#find the accuracies of the updated lgbm model\n",
    "gbm_train_acc = gbm_best.score(tv_train_reviews, train_sentiments)\n",
    "gbm_val_acc = gbm_best.score(tv_val_reviews, val_sentiments)\n",
    "\n",
    "print('Accuracy on the training dataset:\\n', gbm_train_acc)\n",
    "print('\\n Accuracy on the validation dataset:\\n',gbm_val_acc)\n"
   ]
  },
  {
   "cell_type": "code",
   "execution_count": 20,
   "id": "9601855f",
   "metadata": {},
   "outputs": [
    {
     "name": "stdout",
     "output_type": "stream",
     "text": [
      "\n",
      " Confusion matrix on the training dataset:\n",
      " [[ 106 2510]\n",
      " [  41 2567]]\n",
      "\n",
      " Confusion matrix on the validation dataset:\n",
      " [[  29 1064]\n",
      " [  23 1123]]\n",
      "\n",
      " ROC AUC on the training dataset:\n",
      " 0.5123995093900677\n",
      "\n",
      " ROC AUC on the validation dataset:\n",
      " 0.5032313356932662\n"
     ]
    }
   ],
   "source": [
    "#Obtain predictions on the training and validation sets\n",
    "gbm_pred_train = gbm_best.predict(tv_train_reviews)\n",
    "gbm_pred_val = gbm_best.predict(tv_val_reviews)\n",
    "\n",
    "#Evaluate the gradient boosted model on the training and validation sets using the confusion matrix and AUC on ROC\n",
    "print('\\n Confusion matrix on the training dataset:\\n',confusion_matrix(train_sentiments, gbm_pred_train))\n",
    "print('\\n Confusion matrix on the validation dataset:\\n',confusion_matrix(val_sentiments, gbm_pred_val))\n",
    "print('\\n ROC AUC on the training dataset:\\n', roc_auc_score(train_sentiments, gbm_pred_train))\n",
    "print('\\n ROC AUC on the validation dataset:\\n', roc_auc_score(val_sentiments, gbm_pred_val))"
   ]
  },
  {
   "cell_type": "code",
   "execution_count": 21,
   "id": "916f779c",
   "metadata": {},
   "outputs": [],
   "source": [
    "#Converting the sparse matrix of a dataset obtain from Tf-Idf vectorization to a sparse tensor\n",
    "#This is doen as Keras runs on Tensorflow backend and a Keras model accepts a sparse tensor as input, not a sparse matrix\n",
    "def convert_sparse_matrix_to_sparse_tensor(x):\n",
    "        coo = x.tocoo()\n",
    "        indices = np.mat((coo.row, coo.col)).transpose()\n",
    "        return tf.SparseTensor(indices, coo.data, coo.shape)\n",
    "    "
   ]
  },
  {
   "cell_type": "code",
   "execution_count": 22,
   "id": "dc49791a",
   "metadata": {},
   "outputs": [],
   "source": [
    "#Convert sparse matrix to sparse tensor to submit as input tot he Keras model\n",
    "#Sparse reording us done because tensorflow accepts input in row-major format\n",
    "\n",
    "#For the training dataset\n",
    "tv_train_reviews_nn = tf.sparse.reorder(convert_sparse_matrix_to_sparse_tensor(tv_train_reviews))\n",
    "train_sentiments_nn = np.asarray(train_sentiments)\n",
    "\n",
    "#For the valdiation dataset\n",
    "tv_val_reviews_nn = tf.sparse.reorder(convert_sparse_matrix_to_sparse_tensor(tv_val_reviews))\n",
    "val_sentiments_nn = np.asarray(val_sentiments)"
   ]
  },
  {
   "cell_type": "code",
   "execution_count": 23,
   "id": "5b1cb55c",
   "metadata": {},
   "outputs": [],
   "source": [
    "#Defining a fully-connected feedforward neueral network\n",
    "def create_nn(activation_function = 'relu',\n",
    "             hidden1_neurons = 256): ##change relu to sigmoid##\n",
    "    #Note: You have to mention that the input is a sparse tensor using the argument \"sparse = True\"\n",
    "    #keras.Input is the input layer of the neural network\n",
    "    input = keras.Input(shape=(500,), sparse = True, name=\"tfidf_maxfeatures\")\n",
    "    \n",
    "    #The first hidden layer has 256 nodes and takes the previous layer(input layer) as input as mentioned below\n",
    "    hidden1 = layers.Dense(hidden1_neurons,\n",
    "                          activation=activation_function)(input)\n",
    "    \n",
    "    #The second hidden layer has 256 nodes and takes the previous layer (first hidden layer) as input as mentioned below\n",
    "    hidden2 = layers.Dense(64,\n",
    "                          activation=activation_function)(hidden1)\n",
    "    \n",
    "    #The output layer has 1 node and takes the previous layer(second hidden layer)as input as mentioned below\n",
    "    output = layers.Dense(1, activation = 'sigmoid')(hidden2)\n",
    "    \n",
    "    return keras.Model(input, output)"
   ]
  },
  {
   "cell_type": "code",
   "execution_count": 24,
   "id": "ee2b6548",
   "metadata": {},
   "outputs": [
    {
     "name": "stdout",
     "output_type": "stream",
     "text": [
      "Model: \"model\"\n",
      "_________________________________________________________________\n",
      " Layer (type)                Output Shape              Param #   \n",
      "=================================================================\n",
      " tfidf_maxfeatures (InputLay  [(None, 500)]            0         \n",
      " er)                                                             \n",
      "                                                                 \n",
      " dense (Dense)               (None, 256)               128256    \n",
      "                                                                 \n",
      " dense_1 (Dense)             (None, 64)                16448     \n",
      "                                                                 \n",
      " dense_2 (Dense)             (None, 1)                 65        \n",
      "                                                                 \n",
      "=================================================================\n",
      "Total params: 144,769\n",
      "Trainable params: 144,769\n",
      "Non-trainable params: 0\n",
      "_________________________________________________________________\n"
     ]
    }
   ],
   "source": [
    "nn1 = create_nn()\n",
    "\n",
    "#note: Since the output layer has only 1 node, you can use bindary_crossentropy\n",
    "learning_rate_value = 0.01\n",
    "nn1.compile(loss = 'binary_crossentropy',\n",
    "           metrics = ['accuracy'],\n",
    "           optimizer = RMSprop(learning_rate = learning_rate_value))\n",
    "\n",
    "nn1.summary()"
   ]
  },
  {
   "cell_type": "code",
   "execution_count": 25,
   "id": "1c1936ad",
   "metadata": {},
   "outputs": [
    {
     "name": "stdout",
     "output_type": "stream",
     "text": [
      "Epoch 1/10\n",
      "164/164 [==============================] - 19s 73ms/step - loss: 0.6942 - accuracy: 0.5069 - val_loss: 0.6883 - val_accuracy: 0.5297\n",
      "Epoch 2/10\n",
      "164/164 [==============================] - 13s 52ms/step - loss: 0.6678 - accuracy: 0.5480 - val_loss: 0.6865 - val_accuracy: 0.5360\n",
      "Epoch 3/10\n",
      "164/164 [==============================] - 17s 72ms/step - loss: 0.6435 - accuracy: 0.5597 - val_loss: 0.6916 - val_accuracy: 0.5016\n",
      "Epoch 4/10\n",
      "164/164 [==============================] - 14s 51ms/step - loss: 0.6308 - accuracy: 0.5695 - val_loss: 0.7441 - val_accuracy: 0.4989\n",
      "Epoch 5/10\n",
      "164/164 [==============================] - 8s 13ms/step - loss: 0.6246 - accuracy: 0.5729 - val_loss: 0.7407 - val_accuracy: 0.5386\n",
      "Epoch 6/10\n",
      "164/164 [==============================] - 9s 22ms/step - loss: 0.6179 - accuracy: 0.5804 - val_loss: 0.7178 - val_accuracy: 0.5042\n",
      "Epoch 7/10\n",
      "164/164 [==============================] - 2s 10ms/step - loss: 0.6165 - accuracy: 0.5725 - val_loss: 0.7143 - val_accuracy: 0.5351\n",
      "Epoch 8/10\n",
      "164/164 [==============================] - 2s 13ms/step - loss: 0.6143 - accuracy: 0.5781 - val_loss: 0.7640 - val_accuracy: 0.5020\n",
      "Epoch 9/10\n",
      "164/164 [==============================] - 2s 12ms/step - loss: 0.6145 - accuracy: 0.5873 - val_loss: 0.7090 - val_accuracy: 0.5368\n",
      "Epoch 10/10\n",
      "164/164 [==============================] - 4s 27ms/step - loss: 0.6118 - accuracy: 0.5810 - val_loss: 0.7590 - val_accuracy: 0.5056\n"
     ]
    }
   ],
   "source": [
    "#Traning the nerual network model on the dataset\n",
    "nn1_history = nn1.fit(tv_train_reviews_nn, train_sentiments_nn, validation_data= (tv_val_reviews_nn, val_sentiments_nn), epochs = 10)"
   ]
  },
  {
   "cell_type": "code",
   "execution_count": 26,
   "id": "21de066e",
   "metadata": {},
   "outputs": [
    {
     "data": {
      "text/html": [
       "<div>\n",
       "<style scoped>\n",
       "    .dataframe tbody tr th:only-of-type {\n",
       "        vertical-align: middle;\n",
       "    }\n",
       "\n",
       "    .dataframe tbody tr th {\n",
       "        vertical-align: top;\n",
       "    }\n",
       "\n",
       "    .dataframe thead th {\n",
       "        text-align: right;\n",
       "    }\n",
       "</style>\n",
       "<table border=\"1\" class=\"dataframe\">\n",
       "  <thead>\n",
       "    <tr style=\"text-align: right;\">\n",
       "      <th></th>\n",
       "      <th>loss</th>\n",
       "      <th>accuracy</th>\n",
       "      <th>val_loss</th>\n",
       "      <th>val_accuracy</th>\n",
       "    </tr>\n",
       "    <tr>\n",
       "      <th>epoch</th>\n",
       "      <th></th>\n",
       "      <th></th>\n",
       "      <th></th>\n",
       "      <th></th>\n",
       "    </tr>\n",
       "  </thead>\n",
       "  <tbody>\n",
       "    <tr>\n",
       "      <th>1</th>\n",
       "      <td>0.694227</td>\n",
       "      <td>0.506891</td>\n",
       "      <td>0.688340</td>\n",
       "      <td>0.529701</td>\n",
       "    </tr>\n",
       "    <tr>\n",
       "      <th>2</th>\n",
       "      <td>0.667783</td>\n",
       "      <td>0.548047</td>\n",
       "      <td>0.686462</td>\n",
       "      <td>0.535954</td>\n",
       "    </tr>\n",
       "    <tr>\n",
       "      <th>3</th>\n",
       "      <td>0.643462</td>\n",
       "      <td>0.559724</td>\n",
       "      <td>0.691621</td>\n",
       "      <td>0.501563</td>\n",
       "    </tr>\n",
       "    <tr>\n",
       "      <th>4</th>\n",
       "      <td>0.630753</td>\n",
       "      <td>0.569487</td>\n",
       "      <td>0.744138</td>\n",
       "      <td>0.498883</td>\n",
       "    </tr>\n",
       "    <tr>\n",
       "      <th>5</th>\n",
       "      <td>0.624592</td>\n",
       "      <td>0.572933</td>\n",
       "      <td>0.740680</td>\n",
       "      <td>0.538633</td>\n",
       "    </tr>\n",
       "    <tr>\n",
       "      <th>6</th>\n",
       "      <td>0.617929</td>\n",
       "      <td>0.580398</td>\n",
       "      <td>0.717787</td>\n",
       "      <td>0.504243</td>\n",
       "    </tr>\n",
       "    <tr>\n",
       "      <th>7</th>\n",
       "      <td>0.616517</td>\n",
       "      <td>0.572550</td>\n",
       "      <td>0.714330</td>\n",
       "      <td>0.535060</td>\n",
       "    </tr>\n",
       "    <tr>\n",
       "      <th>8</th>\n",
       "      <td>0.614293</td>\n",
       "      <td>0.578101</td>\n",
       "      <td>0.763993</td>\n",
       "      <td>0.502010</td>\n",
       "    </tr>\n",
       "    <tr>\n",
       "      <th>9</th>\n",
       "      <td>0.614478</td>\n",
       "      <td>0.587289</td>\n",
       "      <td>0.709011</td>\n",
       "      <td>0.536847</td>\n",
       "    </tr>\n",
       "    <tr>\n",
       "      <th>10</th>\n",
       "      <td>0.611827</td>\n",
       "      <td>0.580972</td>\n",
       "      <td>0.758996</td>\n",
       "      <td>0.505583</td>\n",
       "    </tr>\n",
       "  </tbody>\n",
       "</table>\n",
       "</div>"
      ],
      "text/plain": [
       "           loss  accuracy  val_loss  val_accuracy\n",
       "epoch                                            \n",
       "1      0.694227  0.506891  0.688340      0.529701\n",
       "2      0.667783  0.548047  0.686462      0.535954\n",
       "3      0.643462  0.559724  0.691621      0.501563\n",
       "4      0.630753  0.569487  0.744138      0.498883\n",
       "5      0.624592  0.572933  0.740680      0.538633\n",
       "6      0.617929  0.580398  0.717787      0.504243\n",
       "7      0.616517  0.572550  0.714330      0.535060\n",
       "8      0.614293  0.578101  0.763993      0.502010\n",
       "9      0.614478  0.587289  0.709011      0.536847\n",
       "10     0.611827  0.580972  0.758996      0.505583"
      ]
     },
     "execution_count": 26,
     "metadata": {},
     "output_type": "execute_result"
    }
   ],
   "source": [
    "#Convert the neural network history object into a data fram to view its specifics\n",
    "hist = pd.DataFrame(nn1_history.history)\n",
    "hist['epoch'] = nn1_history.epoch\n",
    "hist['epoch'] = hist['epoch'].apply(lambda x: x + 1)\n",
    "hist.set_index('epoch')"
   ]
  },
  {
   "cell_type": "code",
   "execution_count": 27,
   "id": "53248c98",
   "metadata": {},
   "outputs": [
    {
     "data": {
      "image/png": "[encoded data removed]",
      "text/plain": [
       "<Figure size 1008x288 with 1 Axes>"
      ]
     },
     "metadata": {
      "needs_background": "light"
     },
     "output_type": "display_data"
    }
   ],
   "source": [
    "#View the training and validation accuracies as functions of epoch\n",
    "plt.figure(figsize = (14,4))\n",
    "\n",
    "sns.lineplot(data = hist, x = 'epoch', y = 'accuracy', color = 'red', label = 'Training')\n",
    "sns.lineplot(data = hist, x = 'epoch', y = 'val_accuracy', color = 'blue', label = 'Validation') \n",
    "plt.xlabel('Epoch')\n",
    "plt.ylabel('Accuracy')\n",
    "plt.title('Accuracy as a Function of Epoch');\n",
    "                      "
   ]
  },
  {
   "cell_type": "code",
   "execution_count": 28,
   "id": "1072633f",
   "metadata": {},
   "outputs": [
    {
     "name": "stdout",
     "output_type": "stream",
     "text": [
      "70/70 [==============================] - 1s 8ms/step - loss: 0.7590 - accuracy: 0.5056\n",
      "The loss value of the model on the validation set is 0.7589964270591736\n",
      "The accuracy of the model on the validation set is0.505582869052887\n"
     ]
    }
   ],
   "source": [
    "#Compute the final accuracy of the model on the validation data set using the 'evaluate()' method\n",
    "performance_test = nn1.evaluate(tv_val_reviews_nn, val_sentiments_nn)\n",
    "\n",
    "print ('The loss value of the model on the validation set is {}'.format(performance_test[0]))\n",
    "print('The accuracy of the model on the validation set is{}'.format(performance_test[1]))\n"
   ]
  },
  {
   "cell_type": "code",
   "execution_count": 29,
   "id": "e2b88326",
   "metadata": {},
   "outputs": [
    {
     "name": "stdout",
     "output_type": "stream",
     "text": [
      "\n",
      " activation_function = sigmoidhidden_neurons = 128 - START\n",
      "\n",
      "Model: \"model_1\"\n",
      "_________________________________________________________________\n",
      " Layer (type)                Output Shape              Param #   \n",
      "=================================================================\n",
      " tfidf_maxfeatures (InputLay  [(None, 500)]            0         \n",
      " er)                                                             \n",
      "                                                                 \n",
      " dense_3 (Dense)             (None, 128)               64128     \n",
      "                                                                 \n",
      " dense_4 (Dense)             (None, 64)                8256      \n",
      "                                                                 \n",
      " dense_5 (Dense)             (None, 1)                 65        \n",
      "                                                                 \n",
      "=================================================================\n",
      "Total params: 72,449\n",
      "Trainable params: 72,449\n",
      "Non-trainable params: 0\n",
      "_________________________________________________________________\n",
      "\n",
      "\n",
      "Epoch 1/10\n",
      "164/164 [==============================] - 23s 70ms/step - loss: 0.7191 - accuracy: 0.4989 - val_loss: 0.7024 - val_accuracy: 0.5118\n",
      "Epoch 2/10\n",
      "164/164 [==============================] - 13s 39ms/step - loss: 0.6963 - accuracy: 0.5038 - val_loss: 0.6935 - val_accuracy: 0.4882\n",
      "Epoch 3/10\n",
      "164/164 [==============================] - 13s 45ms/step - loss: 0.6960 - accuracy: 0.4973 - val_loss: 0.6950 - val_accuracy: 0.5118\n",
      "Epoch 4/10\n",
      "164/164 [==============================] - 13s 52ms/step - loss: 0.6973 - accuracy: 0.4893 - val_loss: 0.7003 - val_accuracy: 0.4882\n",
      "Epoch 5/10\n",
      "164/164 [==============================] - 14s 49ms/step - loss: 0.6968 - accuracy: 0.4935 - val_loss: 0.6975 - val_accuracy: 0.4882\n",
      "Epoch 6/10\n",
      "164/164 [==============================] - 13s 50ms/step - loss: 0.6961 - accuracy: 0.4973 - val_loss: 0.6930 - val_accuracy: 0.5118\n",
      "Epoch 7/10\n",
      "164/164 [==============================] - 12s 40ms/step - loss: 0.6969 - accuracy: 0.5023 - val_loss: 0.6960 - val_accuracy: 0.4882\n",
      "Epoch 8/10\n",
      "164/164 [==============================] - 11s 47ms/step - loss: 0.6968 - accuracy: 0.4862 - val_loss: 0.6929 - val_accuracy: 0.5118\n",
      "Epoch 9/10\n",
      "164/164 [==============================] - 3s 15ms/step - loss: 0.6956 - accuracy: 0.4927 - val_loss: 0.6967 - val_accuracy: 0.4882\n",
      "Epoch 10/10\n",
      "164/164 [==============================] - 4s 21ms/step - loss: 0.6961 - accuracy: 0.4918 - val_loss: 0.6948 - val_accuracy: 0.4882\n",
      "\n",
      " activation_function = sigmoid,hidden1_neurons = 128 - END\n",
      "\n",
      "\n",
      " activation_function = sigmoidhidden_neurons = 256 - START\n",
      "\n",
      "Model: \"model_2\"\n",
      "_________________________________________________________________\n",
      " Layer (type)                Output Shape              Param #   \n",
      "=================================================================\n",
      " tfidf_maxfeatures (InputLay  [(None, 500)]            0         \n",
      " er)                                                             \n",
      "                                                                 \n",
      " dense_6 (Dense)             (None, 256)               128256    \n",
      "                                                                 \n",
      " dense_7 (Dense)             (None, 64)                16448     \n",
      "                                                                 \n",
      " dense_8 (Dense)             (None, 1)                 65        \n",
      "                                                                 \n",
      "=================================================================\n",
      "Total params: 144,769\n",
      "Trainable params: 144,769\n",
      "Non-trainable params: 0\n",
      "_________________________________________________________________\n",
      "\n",
      "\n",
      "Epoch 1/10\n",
      "164/164 [==============================] - 21s 63ms/step - loss: 0.7144 - accuracy: 0.5027 - val_loss: 0.7444 - val_accuracy: 0.5118\n",
      "Epoch 2/10\n",
      "164/164 [==============================] - 15s 57ms/step - loss: 0.6990 - accuracy: 0.5031 - val_loss: 0.6978 - val_accuracy: 0.4882\n",
      "Epoch 3/10\n",
      "164/164 [==============================] - 14s 45ms/step - loss: 0.6980 - accuracy: 0.5107 - val_loss: 0.6929 - val_accuracy: 0.5118\n",
      "Epoch 4/10\n",
      "164/164 [==============================] - 14s 47ms/step - loss: 0.6993 - accuracy: 0.4996 - val_loss: 0.6929 - val_accuracy: 0.5118\n",
      "Epoch 5/10\n",
      "164/164 [==============================] - 12s 37ms/step - loss: 0.7005 - accuracy: 0.4853 - val_loss: 0.7101 - val_accuracy: 0.4882\n",
      "Epoch 6/10\n",
      "164/164 [==============================] - 9s 25ms/step - loss: 0.6987 - accuracy: 0.5034 - val_loss: 0.7205 - val_accuracy: 0.4882\n",
      "Epoch 7/10\n",
      "164/164 [==============================] - 6s 10ms/step - loss: 0.6964 - accuracy: 0.5061 - val_loss: 0.6931 - val_accuracy: 0.5118\n",
      "Epoch 8/10\n",
      "164/164 [==============================] - 2s 12ms/step - loss: 0.6996 - accuracy: 0.4858 - val_loss: 0.6929 - val_accuracy: 0.5118\n",
      "Epoch 9/10\n",
      "164/164 [==============================] - 3s 17ms/step - loss: 0.6986 - accuracy: 0.5065 - val_loss: 0.7178 - val_accuracy: 0.4882\n",
      "Epoch 10/10\n",
      "164/164 [==============================] - 2s 13ms/step - loss: 0.6990 - accuracy: 0.5004 - val_loss: 0.7058 - val_accuracy: 0.5118\n",
      "\n",
      " activation_function = sigmoid,hidden1_neurons = 256 - END\n",
      "\n",
      "\n",
      " activation_function = reluhidden_neurons = 128 - START\n",
      "\n",
      "Model: \"model_3\"\n",
      "_________________________________________________________________\n",
      " Layer (type)                Output Shape              Param #   \n",
      "=================================================================\n",
      " tfidf_maxfeatures (InputLay  [(None, 500)]            0         \n",
      " er)                                                             \n",
      "                                                                 \n",
      " dense_9 (Dense)             (None, 128)               64128     \n",
      "                                                                 \n",
      " dense_10 (Dense)            (None, 64)                8256      \n",
      "                                                                 \n",
      " dense_11 (Dense)            (None, 1)                 65        \n",
      "                                                                 \n",
      "=================================================================\n",
      "Total params: 72,449\n",
      "Trainable params: 72,449\n",
      "Non-trainable params: 0\n",
      "_________________________________________________________________\n",
      "\n",
      "\n",
      "Epoch 1/10\n",
      "164/164 [==============================] - 27s 95ms/step - loss: 0.6918 - accuracy: 0.5249 - val_loss: 0.6928 - val_accuracy: 0.5293\n",
      "Epoch 2/10\n",
      "164/164 [==============================] - 15s 62ms/step - loss: 0.6626 - accuracy: 0.5513 - val_loss: 0.6931 - val_accuracy: 0.5342\n",
      "Epoch 3/10\n",
      "164/164 [==============================] - 12s 44ms/step - loss: 0.6420 - accuracy: 0.5532 - val_loss: 0.7002 - val_accuracy: 0.5355\n",
      "Epoch 4/10\n",
      "164/164 [==============================] - 8s 15ms/step - loss: 0.6318 - accuracy: 0.5674 - val_loss: 0.7129 - val_accuracy: 0.5337\n",
      "Epoch 5/10\n",
      "164/164 [==============================] - 8s 18ms/step - loss: 0.6236 - accuracy: 0.5758 - val_loss: 0.7651 - val_accuracy: 0.5002\n",
      "Epoch 6/10\n",
      "164/164 [==============================] - 7s 12ms/step - loss: 0.6204 - accuracy: 0.5762 - val_loss: 0.7177 - val_accuracy: 0.5382\n",
      "Epoch 7/10\n",
      "164/164 [==============================] - 9s 18ms/step - loss: 0.6183 - accuracy: 0.5817 - val_loss: 0.7232 - val_accuracy: 0.5056\n",
      "Epoch 8/10\n",
      "164/164 [==============================] - 8s 12ms/step - loss: 0.6145 - accuracy: 0.5814 - val_loss: 0.7738 - val_accuracy: 0.5029\n",
      "Epoch 9/10\n",
      "164/164 [==============================] - 3s 16ms/step - loss: 0.6125 - accuracy: 0.5831 - val_loss: 0.7610 - val_accuracy: 0.5016\n",
      "Epoch 10/10\n",
      "164/164 [==============================] - 3s 19ms/step - loss: 0.6129 - accuracy: 0.5928 - val_loss: 0.7359 - val_accuracy: 0.5051\n",
      "\n",
      " activation_function = relu,hidden1_neurons = 128 - END\n",
      "\n",
      "\n",
      " activation_function = reluhidden_neurons = 256 - START\n",
      "\n",
      "Model: \"model_4\"\n",
      "_________________________________________________________________\n",
      " Layer (type)                Output Shape              Param #   \n",
      "=================================================================\n",
      " tfidf_maxfeatures (InputLay  [(None, 500)]            0         \n",
      " er)                                                             \n",
      "                                                                 \n",
      " dense_12 (Dense)            (None, 256)               128256    \n",
      "                                                                 \n",
      " dense_13 (Dense)            (None, 64)                16448     \n",
      "                                                                 \n",
      " dense_14 (Dense)            (None, 1)                 65        \n",
      "                                                                 \n",
      "=================================================================\n",
      "Total params: 144,769\n",
      "Trainable params: 144,769\n",
      "Non-trainable params: 0\n",
      "_________________________________________________________________\n",
      "\n",
      "\n",
      "Epoch 1/10\n",
      "164/164 [==============================] - 21s 71ms/step - loss: 0.6905 - accuracy: 0.5234 - val_loss: 0.6879 - val_accuracy: 0.5342\n",
      "Epoch 2/10\n",
      "164/164 [==============================] - 13s 50ms/step - loss: 0.6597 - accuracy: 0.5614 - val_loss: 0.6894 - val_accuracy: 0.5042\n",
      "Epoch 3/10\n",
      "164/164 [==============================] - 14s 55ms/step - loss: 0.6427 - accuracy: 0.5645 - val_loss: 0.7139 - val_accuracy: 0.5364\n",
      "Epoch 4/10\n",
      "164/164 [==============================] - 13s 51ms/step - loss: 0.6328 - accuracy: 0.5718 - val_loss: 0.7040 - val_accuracy: 0.5386\n",
      "Epoch 5/10\n",
      "164/164 [==============================] - 17s 73ms/step - loss: 0.6243 - accuracy: 0.5854 - val_loss: 0.7085 - val_accuracy: 0.5074\n",
      "Epoch 6/10\n",
      "164/164 [==============================] - 16s 63ms/step - loss: 0.6198 - accuracy: 0.5703 - val_loss: 0.7264 - val_accuracy: 0.5025\n",
      "Epoch 7/10\n",
      "164/164 [==============================] - 15s 48ms/step - loss: 0.6191 - accuracy: 0.5838 - val_loss: 0.7073 - val_accuracy: 0.5346\n",
      "Epoch 8/10\n",
      "164/164 [==============================] - 10s 32ms/step - loss: 0.6147 - accuracy: 0.5779 - val_loss: 0.7422 - val_accuracy: 0.5047\n",
      "Epoch 9/10\n",
      "164/164 [==============================] - 9s 31ms/step - loss: 0.6131 - accuracy: 0.5792 - val_loss: 0.7279 - val_accuracy: 0.5051\n",
      "Epoch 10/10\n",
      "164/164 [==============================] - 3s 17ms/step - loss: 0.6122 - accuracy: 0.5720 - val_loss: 0.7335 - val_accuracy: 0.5007\n",
      "\n",
      " activation_function = relu,hidden1_neurons = 256 - END\n",
      "\n"
     ]
    }
   ],
   "source": [
    "#Declare a range of activation functions and number of neurons in the first hidden layer to tune for\n",
    "activation_function_list = ['sigmoid','relu']\n",
    "hidden1_neurons_list = [128, 256]\n",
    "\n",
    "#Create and train a neural network model for each value of learning rate\n",
    "performance_df = pd.DataFrame(data = None)\n",
    "hist = [None] * 4\n",
    "indexcount = -1\n",
    "\n",
    "for current_activation_function in activation_function_list:\n",
    "    for current_hidden1_neurons in hidden1_neurons_list:\n",
    "        indexcount = indexcount + 1\n",
    "        \n",
    "        #Create a neural network model using the 'create_nn' function\n",
    "        #Note: Set the 'activation_function' parameter to 'current_activation_function'\n",
    "        #Note: Set the 'activation_function' parameter to 'current_activation_function'\n",
    "        nn = create_nn(activation_function = current_activation_function,\n",
    "                      hidden1_neurons = current_hidden1_neurons)\n",
    "        \n",
    "        nn.compile(loss = 'binary_crossentropy',\n",
    "                  metrics = ['accuracy'],\n",
    "                  optimizer = RMSprop(learning_rate = 0.01))\n",
    "        \n",
    "        #Capture the training history of the model using the 'fit()' method\n",
    "        #Note: Set the 'epochs' parameter to 200\n",
    "        #Note: Set the 'batch_size' to 'x_train.shape[0]'\n",
    "        print('\\n activation_function = {}'.format(current_activation_function) + 'hidden_neurons = {} - START\\n'.format(current_hidden1_neurons))\n",
    "        nn.summary()\n",
    "        print('\\n')\n",
    "        nn_history = nn.fit(tv_train_reviews_nn, train_sentiments_nn, validation_data = (tv_val_reviews_nn, val_sentiments_nn), epochs = 10)\n",
    "        print('\\n activation_function = {},'.format(current_activation_function) + 'hidden1_neurons = {} - END\\n'.format(current_hidden1_neurons))\n",
    "        \n",
    "        hist[indexcount] = pd.DataFrame(nn_history.history)\n",
    "        hist[indexcount]['epoch'] = nn_history.epoch\n",
    "        \n",
    "        tempdf = pd.DataFrame(index = [indexcount],\n",
    "                                       data = {'Activation Function': current_activation_function,\n",
    "                                              'First hidden layer neurons': current_hidden1_neurons,\n",
    "                                              'Train Accuracy': hist[indexcount]['accuracy'][9],\n",
    "                                              'Validation Accuracy': hist[indexcount]['val_accuracy'][9]})\n",
    "        performance_df = pd.concat([performance_df, tempdf])\n",
    "        "
   ]
  },
  {
   "cell_type": "code",
   "execution_count": 30,
   "id": "a8f57b9b",
   "metadata": {},
   "outputs": [
    {
     "data": {
      "image/png": "[encoded data removed]",
      "text/plain": [
       "<Figure size 1008x288 with 1 Axes>"
      ]
     },
     "metadata": {
      "needs_background": "light"
     },
     "output_type": "display_data"
    }
   ],
   "source": [
    "#View the training accuracies as functions of epochs for differenct values of learning rate\n",
    "plt.figure(figsize = (14,4))\n",
    "colorlist = ['purple','green', 'blue','red']\n",
    "\n",
    "indexcount = -1\n",
    "for current_activation_function in activation_function_list:\n",
    "    for current_hidden1_neurons in hidden1_neurons_list:\n",
    "        indexcount = indexcount + 1\n",
    "        sns.lineplot(data = hist[indexcount],\n",
    "                    x = 'epoch',\n",
    "                    y = 'accuracy',\n",
    "                    color = colorlist[indexcount],\n",
    "                    label = 'activation_function = '+ str(current_activation_function) + ',hidden1_neurons'+str(current_hidden1_neurons))\n",
    "\n",
    "plt.xlabel('Epoch')\n",
    "plt.ylabel('Training Accuracy')\n",
    "plt.title('Training Accuracy as a Function of Epoch for Different Values of Hyperparameters');                   "
   ]
  },
  {
   "cell_type": "code",
   "execution_count": 31,
   "id": "315aabd8",
   "metadata": {},
   "outputs": [
    {
     "name": "stdout",
     "output_type": "stream",
     "text": [
      "Model: \"model_5\"\n",
      "_________________________________________________________________\n",
      " Layer (type)                Output Shape              Param #   \n",
      "=================================================================\n",
      " tfidf_maxfeatures (InputLay  [(None, 500)]            0         \n",
      " er)                                                             \n",
      "                                                                 \n",
      " dense_15 (Dense)            (None, 256)               128256    \n",
      "                                                                 \n",
      " dense_16 (Dense)            (None, 64)                16448     \n",
      "                                                                 \n",
      " dense_17 (Dense)            (None, 1)                 65        \n",
      "                                                                 \n",
      "=================================================================\n",
      "Total params: 144,769\n",
      "Trainable params: 144,769\n",
      "Non-trainable params: 0\n",
      "_________________________________________________________________\n",
      "\n",
      "\n",
      "Epoch 1/10\n",
      "164/164 [==============================] - 20s 74ms/step - loss: 0.6932 - accuracy: 0.5065 - val_loss: 0.6861 - val_accuracy: 0.5377\n",
      "Epoch 2/10\n",
      "164/164 [==============================] - 12s 46ms/step - loss: 0.6668 - accuracy: 0.5561 - val_loss: 0.6929 - val_accuracy: 0.4998\n",
      "Epoch 3/10\n",
      "164/164 [==============================] - 9s 33ms/step - loss: 0.6425 - accuracy: 0.5685 - val_loss: 0.6969 - val_accuracy: 0.5364\n",
      "Epoch 4/10\n",
      "164/164 [==============================] - 8s 29ms/step - loss: 0.6300 - accuracy: 0.5821 - val_loss: 0.7228 - val_accuracy: 0.5368\n",
      "Epoch 5/10\n",
      "164/164 [==============================] - 10s 42ms/step - loss: 0.6250 - accuracy: 0.5685 - val_loss: 0.6995 - val_accuracy: 0.5395\n",
      "Epoch 6/10\n",
      "164/164 [==============================] - 9s 30ms/step - loss: 0.6201 - accuracy: 0.5783 - val_loss: 0.7344 - val_accuracy: 0.5418\n",
      "Epoch 7/10\n",
      "164/164 [==============================] - 8s 21ms/step - loss: 0.6173 - accuracy: 0.5731 - val_loss: 0.7125 - val_accuracy: 0.5364\n",
      "Epoch 8/10\n",
      "164/164 [==============================] - 12s 20ms/step - loss: 0.6145 - accuracy: 0.5764 - val_loss: 0.7761 - val_accuracy: 0.5047\n",
      "Epoch 9/10\n",
      "164/164 [==============================] - 6s 11ms/step - loss: 0.6124 - accuracy: 0.5882 - val_loss: 0.7714 - val_accuracy: 0.5342\n",
      "Epoch 10/10\n",
      "164/164 [==============================] - 5s 10ms/step - loss: 0.6110 - accuracy: 0.5856 - val_loss: 0.7819 - val_accuracy: 0.5382\n"
     ]
    }
   ],
   "source": [
    "#Retrain the model with the optimal combindation of hyperparameters amd save its training history\n",
    "\n",
    "#use the 'create_nn' function to create a neural network with the optimal values of 'activation_function' and 'hidden_neurons'\n",
    "#Note: Set the 'activation_function' parameter to 'best_activation_function' - This specifies the otimal value for the 'activation function' parameter\n",
    "#Note: Set the 'hidden1_neurons' parameter to 'best_hidden1_neurons' - This specifies the optimal value for the 'hidden1_neurons' parameters\n",
    "\n",
    "nn2 = create_nn(activation_function = 'relu', hidden1_neurons = 256)\n",
    "\n",
    "nn2.compile(loss = 'binary_crossentropy',\n",
    "           metrics = ['accuracy'],\n",
    "           optimizer = RMSprop(learning_rate  = 0.01))\n",
    "\n",
    "#Capture the training history of the model using the 'fit()' method\n",
    "#Note: Set the 'validation_split' parameter to 0.3\n",
    "#Note: Set the 'epochs' parameter to 10\n",
    "#Note: Set the 'batch_size' to 'best_batch_size' - This specifies the optimal value for the 'batch_size' parameter\n",
    "\n",
    "nn2.summary()\n",
    "print('\\n')\n",
    "nn2_history = nn2.fit(tv_train_reviews_nn, train_sentiments_nn, validation_data = (tv_val_reviews_nn, val_sentiments_nn), epochs = 10)\n",
    "hist = pd.DataFrame(nn2_history.history)\n",
    "hist['epoch'] = nn2_history.epoch"
   ]
  },
  {
   "cell_type": "code",
   "execution_count": 32,
   "id": "27b76a99",
   "metadata": {},
   "outputs": [
    {
     "data": {
      "image/png": "[encoded data removed]",
      "text/plain": [
       "<Figure size 1008x288 with 1 Axes>"
      ]
     },
     "metadata": {
      "needs_background": "light"
     },
     "output_type": "display_data"
    }
   ],
   "source": [
    "#View the training and validation accuracies as function of epoch\n",
    "plt.figure(figsize = (14,4))\n",
    "\n",
    "sns.lineplot(data = hist, x = 'epoch', y = 'accuracy', color = 'red', label = 'Training')\n",
    "sns.lineplot(data = hist, x = 'epoch', y = 'val_accuracy', color = 'blue', label = 'Validation')\n",
    "plt.xlabel('Epoch')\n",
    "plt.ylabel('Accuracy')\n",
    "plt.title('Accuracy as a Function of Epoch');"
   ]
  },
  {
   "cell_type": "code",
   "execution_count": 33,
   "id": "70135654",
   "metadata": {},
   "outputs": [
    {
     "name": "stdout",
     "output_type": "stream",
     "text": [
      "70/70 [==============================] - 5s 6ms/step - loss: 0.0000e+00 - accuracy: 0.0000e+00\n",
      "The loss value of the model on the validation data is 0.0\n",
      "The accuracy of the model on the validation set is 0.0\n"
     ]
    }
   ],
   "source": [
    "#Compute the final accuracy of the model on the validation data set using the 'evaluate()' method\n",
    "performance_test = nn2.evaluate(tv_val_reviews_nn)\n",
    "\n",
    "print('The loss value of the model on the validation data is {}'.format(performance_test[0]))\n",
    "print('The accuracy of the model on the validation set is {}'.format(performance_test[1]))"
   ]
  },
  {
   "cell_type": "code",
   "execution_count": 34,
   "id": "fc82956d",
   "metadata": {},
   "outputs": [
    {
     "name": "stdout",
     "output_type": "stream",
     "text": [
      "(3199, 1)\n"
     ]
    },
    {
     "data": {
      "text/html": [
       "<div>\n",
       "<style scoped>\n",
       "    .dataframe tbody tr th:only-of-type {\n",
       "        vertical-align: middle;\n",
       "    }\n",
       "\n",
       "    .dataframe tbody tr th {\n",
       "        vertical-align: top;\n",
       "    }\n",
       "\n",
       "    .dataframe thead th {\n",
       "        text-align: right;\n",
       "    }\n",
       "</style>\n",
       "<table border=\"1\" class=\"dataframe\">\n",
       "  <thead>\n",
       "    <tr style=\"text-align: right;\">\n",
       "      <th></th>\n",
       "      <th>Reviews</th>\n",
       "    </tr>\n",
       "  </thead>\n",
       "  <tbody>\n",
       "    <tr>\n",
       "      <th>0</th>\n",
       "      <td>the inhospitability of the land emphasizes the...</td>\n",
       "    </tr>\n",
       "    <tr>\n",
       "      <th>1</th>\n",
       "      <td>see it now , before the inevitable hollywood r...</td>\n",
       "    </tr>\n",
       "    <tr>\n",
       "      <th>2</th>\n",
       "      <td>the weight of the piece , the unerring profess...</td>\n",
       "    </tr>\n",
       "    <tr>\n",
       "      <th>3</th>\n",
       "      <td>the large-frame imax camera lends itself beaut...</td>\n",
       "    </tr>\n",
       "    <tr>\n",
       "      <th>4</th>\n",
       "      <td>what makes how i killed my father compelling ,...</td>\n",
       "    </tr>\n",
       "    <tr>\n",
       "      <th>5</th>\n",
       "      <td>jason x has cheesy effects and a hoary plot , ...</td>\n",
       "    </tr>\n",
       "    <tr>\n",
       "      <th>6</th>\n",
       "      <td>what eric schaeffer has accomplished with neve...</td>\n",
       "    </tr>\n",
       "    <tr>\n",
       "      <th>7</th>\n",
       "      <td>birot creates a drama with such a well-defined...</td>\n",
       "    </tr>\n",
       "    <tr>\n",
       "      <th>8</th>\n",
       "      <td>rubbo runs through a remarkable amount of mate...</td>\n",
       "    </tr>\n",
       "    <tr>\n",
       "      <th>9</th>\n",
       "      <td>i like my christmas movies with more elves and...</td>\n",
       "    </tr>\n",
       "  </tbody>\n",
       "</table>\n",
       "</div>"
      ],
      "text/plain": [
       "                                             Reviews\n",
       "0  the inhospitability of the land emphasizes the...\n",
       "1  see it now , before the inevitable hollywood r...\n",
       "2  the weight of the piece , the unerring profess...\n",
       "3  the large-frame imax camera lends itself beaut...\n",
       "4  what makes how i killed my father compelling ,...\n",
       "5  jason x has cheesy effects and a hoary plot , ...\n",
       "6  what eric schaeffer has accomplished with neve...\n",
       "7  birot creates a drama with such a well-defined...\n",
       "8  rubbo runs through a remarkable amount of mate...\n",
       "9  i like my christmas movies with more elves and..."
      ]
     },
     "execution_count": 34,
     "metadata": {},
     "output_type": "execute_result"
    }
   ],
   "source": [
    "#Readning the test data set\n",
    "test = pd.read_csv(r'D:\\Data Analyst Boot Camp\\Assignment Data\\Assignment 7\\test_file_kaggle.csv')\n",
    "print(test.shape)\n",
    "test.head(10)"
   ]
  },
  {
   "cell_type": "code",
   "execution_count": 35,
   "id": "1d97cb16",
   "metadata": {},
   "outputs": [],
   "source": [
    "#Apply NLP techniques to pre-process the data set\n",
    "#Remove stopwords and tokenization\n",
    "test['Reviews'] = test['Reviews'].apply(remove_stopwords)\n",
    "#stemming\n",
    "test['Reviews'] = test['Reviews'].apply(simple_stemmer)\n",
    "#Lemmatization\n",
    "test['Reviews'] = test['Reviews'].apply(simple_lemmatize)"
   ]
  },
  {
   "cell_type": "code",
   "execution_count": 36,
   "id": "e30b812e",
   "metadata": {},
   "outputs": [
    {
     "name": "stdout",
     "output_type": "stream",
     "text": [
      "Tfdif_val: (3199, 500)\n"
     ]
    }
   ],
   "source": [
    "#Tfidf vectorizer\n",
    "test_reviews= list(test['Reviews'])\n",
    "\n",
    "#transformed text reviews from the Tfdif vectorizer used on the training data set in task 1\n",
    "tv_test_reviews = tv.transform(test_reviews)\n",
    "\n",
    "print('Tfdif_val:', tv_test_reviews.shape)"
   ]
  },
  {
   "cell_type": "code",
   "execution_count": 37,
   "id": "ceb80ac7",
   "metadata": {},
   "outputs": [],
   "source": [
    "#Note: Use this cell to convert your testing dataset tdift vectorization into appropriate format\n",
    "#if you are using the neural network as the final model.\n",
    "#if you are using a machine learning model, you don't need to use this cell\n",
    "\n",
    "#For the testing dataset\n",
    "tv_test_reviews_nn = tf.sparse.reorder(convert_sparse_matrix_to_sparse_tensor(tv_test_reviews))"
   ]
  },
  {
   "cell_type": "code",
   "execution_count": 38,
   "id": "a9f77cf5",
   "metadata": {},
   "outputs": [
    {
     "name": "stdout",
     "output_type": "stream",
     "text": [
      "100/100 [==============================] - 7s 6ms/step\n",
      "prediction shape: (3199, 1)\n"
     ]
    },
    {
     "data": {
      "text/plain": [
       "array([[0.48455742],\n",
       "       [0.9961429 ],\n",
       "       [0.48455742],\n",
       "       ...,\n",
       "       [0.48455742],\n",
       "       [0.48455742],\n",
       "       [0.7208634 ]], dtype=float32)"
      ]
     },
     "execution_count": 38,
     "metadata": {},
     "output_type": "execute_result"
    }
   ],
   "source": [
    "#Use your trained optimized learning model to make predictions on the prepared test data set\n",
    "#Note: Edit the name of your trained model\n",
    "y_pred_test = nn1.predict(tv_test_reviews_nn)\n",
    "print(\"prediction shape:\", y_pred_test.shape)\n",
    "y_pred_test"
   ]
  },
  {
   "cell_type": "code",
   "execution_count": 39,
   "id": "e01fd6e7",
   "metadata": {},
   "outputs": [
    {
     "name": "stdout",
     "output_type": "stream",
     "text": [
      "100/100 [==============================] - 4s 5ms/step\n"
     ]
    },
    {
     "data": {
      "text/plain": [
       "array([[0],\n",
       "       [1],\n",
       "       [0],\n",
       "       ...,\n",
       "       [0],\n",
       "       [0],\n",
       "       [1]])"
      ]
     },
     "execution_count": 39,
     "metadata": {},
     "output_type": "execute_result"
    }
   ],
   "source": [
    "y_pred_test = nn1.predict(tv_test_reviews_nn)\n",
    "y_classes = (y_pred_test >0.7).astype(int)\n",
    "y_classes"
   ]
  },
  {
   "cell_type": "code",
   "execution_count": 41,
   "id": "b7af8682",
   "metadata": {},
   "outputs": [],
   "source": [
    "submit = pd.DataFrame(y_classes)\n",
    "submit.to_csv(\"test_submission_starter.csv\", header = None, index = False)"
   ]
  },
  {
   "cell_type": "code",
   "execution_count": null,
   "id": "efdc4e9a",
   "metadata": {},
   "outputs": [],
   "source": []
  }
 ],
 "metadata": {
  "kernelspec": {
   "display_name": "Python 3 (ipykernel)",
   "language": "python",
   "name": "python3"
  },
  "language_info": {
   "codemirror_mode": {
    "name": "ipython",
    "version": 3
   },
   "file_extension": ".py",
   "mimetype": "text/x-python",
   "name": "python",
   "nbconvert_exporter": "python",
   "pygments_lexer": "ipython3",
   "version": "3.9.7"
  }
 },
 "nbformat": 4,
 "nbformat_minor": 5
}
