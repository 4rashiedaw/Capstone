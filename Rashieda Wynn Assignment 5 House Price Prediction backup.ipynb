{
 "cells": [
  {
   "cell_type": "code",
   "execution_count": null,
   "id": "3026afb8",
   "metadata": {},
   "outputs": [],
   "source": [
    "import pandas as pd\n",
    "import numpy as np\n",
    "import seaborn as sns\n",
    "from matplotlib import pyplot as plt\n",
    "from sklearn.model_selection import train_test_split\n",
    "from sklearn.preprocessing import StandardScaler\n",
    "from sklearn.model_selection import GridSearchCV\n",
    "from sklearn.metrics import f1_score, precision_score, recall_score, accuracy_score, mean_squared_error\n",
    "from sklearn.metrics import confusion_matrix, ConfusionMatrixDisplay\n",
    "from sklearn.neighbors import KNeighborsClassifier, KNeighborsRegressor\n",
    "from sklearn.linear_model import LinearRegression\n",
    "from sklearn.linear_model import Lasso, LassoCV, LogisticRegression\n",
    "from sklearn.model_selection import train_test_split\n",
    "from sklearn.tree import DecisionTreeClassifier, DecisionTreeRegressor\n",
    "from sklearn import tree\n",
    "from sklearn.model_selection import GridSearchCV\n",
    "from sklearn.metrics import f1_score, precision_score, recall_score, accuracy_score, mean_squared_error"
   ]
  },
  {
   "cell_type": "code",
   "execution_count": null,
   "id": "64ebe9c7",
   "metadata": {},
   "outputs": [],
   "source": [
    "##filter warnings\n",
    "import warnings\n",
    "warnings.filterwarnings('ignore')\n"
   ]
  },
  {
   "cell_type": "code",
   "execution_count": null,
   "id": "697b79c7",
   "metadata": {},
   "outputs": [],
   "source": [
    "housing_df = pd.read_csv(r'D:\\Data Analyst Boot Camp\\Assignment Data\\Assignment 5\\Ames Dataset\\ames_data_no_missing.csv')\n",
    "housing_df"
   ]
  },
  {
   "cell_type": "code",
   "execution_count": null,
   "id": "13cecef9",
   "metadata": {},
   "outputs": [],
   "source": [
    "# What is the distibution of housing prices?\n",
    "#Given the deistribution, would it be appropriate to use a single model to predict sales for houses or, should we subset that data?\n",
    "#Are there any variable transformations that would be potentially useful?\n",
    "\n",
    "housing_df.hist(bins=50, figsize = (20,22))\n",
    "plt.show()\n",
    "\n",
    "#With the distribution it would best to subset the data to get a better prediction."
   ]
  },
  {
   "cell_type": "code",
   "execution_count": null,
   "id": "fe8fed24",
   "metadata": {},
   "outputs": [],
   "source": [
    "housing_df.info()"
   ]
  },
  {
   "cell_type": "code",
   "execution_count": null,
   "id": "afad5653",
   "metadata": {},
   "outputs": [],
   "source": [
    "#Which variable has the highest correlation with housing prices?\n",
    "#What are the key drivers behinid larger housing prices?\n",
    "corr_matrix = housing_df.corr()\n",
    "corr_matrix"
   ]
  },
  {
   "cell_type": "code",
   "execution_count": null,
   "id": "7a573d83",
   "metadata": {},
   "outputs": [],
   "source": [
    "corr_matrix[\"SalePrice\"].sort_values(ascending = False)\n",
    "#The Overall quality of the house tends to be the driver of the larger housing price."
   ]
  },
  {
   "cell_type": "code",
   "execution_count": null,
   "id": "88ac5e1f",
   "metadata": {},
   "outputs": [],
   "source": [
    "#Create one additional visualization that provides some insights into the data.\n",
    "\n",
    "sns.catplot(x='Yr Sold', y= 'SalePrice', kind = 'box', data = housing_df)"
   ]
  },
  {
   "cell_type": "code",
   "execution_count": null,
   "id": "7c665c13",
   "metadata": {},
   "outputs": [],
   "source": [
    "#Prepare the data for the machine learning model\n",
    "non_categorical_columns = ['Overall Qual', 'Overall Cond','Year Built']\n",
    "\n",
    "for column in housing_df.columns:\n",
    "    if column not in non_categorical_columns:\n",
    "        housing_df[column] = pd.Categorical(housing_df[column])"
   ]
  },
  {
   "cell_type": "code",
   "execution_count": null,
   "id": "89c90558",
   "metadata": {},
   "outputs": [],
   "source": [
    "#Store the predictors and the target variable in variables x and y\n",
    "y = housing_df['SalePrice']\n",
    "x = housing_df.iloc[:,:-2]"
   ]
  },
  {
   "cell_type": "code",
   "execution_count": null,
   "id": "5f261269",
   "metadata": {},
   "outputs": [],
   "source": [
    "#Create the dummy variables for categorical columns\n",
    "x = pd.get_dummies(x, drop_first = False)"
   ]
  },
  {
   "cell_type": "code",
   "execution_count": null,
   "id": "db3e76c0",
   "metadata": {},
   "outputs": [],
   "source": [
    "#Split the data into train and test sets (70-30 split with random state 0)\n",
    "x_train, x_val, y_train, y_val = train_test_split(x,y, test_size = 0.3, random_state =0)"
   ]
  },
  {
   "cell_type": "code",
   "execution_count": null,
   "id": "08e591e8",
   "metadata": {},
   "outputs": [],
   "source": [
    "#Scale the numerical columns using StandardScaler.\n",
    "scaler = StandardScaler()\n",
    "x_train[['Overall Qual', 'Overall Cond','Year Built']] = scaler.fit_transform(x_train[['Overall Qual', 'Overall Cond','Year Built']])\n",
    "x_val[['Overall Qual', 'Overall Cond','Year Built']] = scaler.transform(x_val[['Overall Qual', 'Overall Cond','Year Built']])"
   ]
  },
  {
   "cell_type": "code",
   "execution_count": null,
   "id": "f656ff19",
   "metadata": {},
   "outputs": [],
   "source": [
    "#Build a linear regression model, A Regression Tree, and a k-NN model."
   ]
  },
  {
   "cell_type": "code",
   "execution_count": null,
   "id": "07c27dff",
   "metadata": {},
   "outputs": [],
   "source": [
    "#Linear Regression Model\n",
    "\n",
    "lin_reg = LinearRegression()\n",
    "lin_reg.fit(x,y)\n",
    "lin_reg.intercept_, lin_reg.coef_\n",
    "lin_reg.predict(x)"
   ]
  },
  {
   "cell_type": "code",
   "execution_count": null,
   "id": "c847c396",
   "metadata": {},
   "outputs": [],
   "source": [
    "model = sm.OLS(y,x)\n",
    "results = model.fit()\n",
    "results.params\n",
    "results.summary()\n",
    "print(results.summary())"
   ]
  },
  {
   "cell_type": "code",
   "execution_count": null,
   "id": "9b5cce06",
   "metadata": {},
   "outputs": [],
   "source": [
    "sns.relplot(x='Overall Qual', y ='SalePrice', data = housing_df,\n",
    "            height = 3.8, kind = 'scatter')\n",
    "sns.set_style('dark')"
   ]
  },
  {
   "cell_type": "code",
   "execution_count": null,
   "id": "21e4598f",
   "metadata": {},
   "outputs": [],
   "source": [
    "sns.regplot('Overall Qual', 'SalePrice', data = housing_df)\n",
    "plt.title('Overall Quality determines SalePrice')"
   ]
  },
  {
   "cell_type": "code",
   "execution_count": null,
   "id": "5e8fdd18",
   "metadata": {},
   "outputs": [],
   "source": [
    "# Regression Tree\n",
    "tree_clf = DecisionTreeClassifier(random_state = 0, max_depth = 10)\n",
    "tree_clf.fit(x_train, y_train)"
   ]
  },
  {
   "cell_type": "code",
   "execution_count": null,
   "id": "af11b316",
   "metadata": {},
   "outputs": [],
   "source": [
    "fig = plt.figure(figsize = (16,8))\n",
    "fig = tree.plot_tree(tree_clf, feature_names = x.columns, filled = True)"
   ]
  },
  {
   "cell_type": "code",
   "execution_count": null,
   "id": "0c150f23",
   "metadata": {},
   "outputs": [],
   "source": [
    "# k-NN Model\n",
    "kvalues = np.arange(1,30)\n",
    "val_acc = []\n",
    "for k in kvalues:\n",
    "    knn_clf = KNeighborsClassifier(n_neighbors = k)\n",
    "    knn_clf.fit(x_train, y_train)\n",
    "    y_pred = knn_clf.predict(x_val)\n",
    "    val_acc.append(accuracy_score(y_val, y_pred))\n",
    "\n",
    "plt.plot(kvalues, val_acc, marker='o')\n",
    "plt.xlabel(\"k\")\n",
    "plt.ylabel(\"SalePrice\")\n",
    "\n",
    "print(\"The highest SalePrice is at K=\" + str(np.argmax(val_acc)+1))"
   ]
  }
 ],
 "metadata": {
  "kernelspec": {
   "display_name": "Python 3 (ipykernel)",
   "language": "python",
   "name": "python3"
  },
  "language_info": {
   "codemirror_mode": {
    "name": "ipython",
    "version": 3
   },
   "file_extension": ".py",
   "mimetype": "text/x-python",
   "name": "python",
   "nbconvert_exporter": "python",
   "pygments_lexer": "ipython3",
   "version": "3.9.7"
  }
 },
 "nbformat": 4,
 "nbformat_minor": 5
}
