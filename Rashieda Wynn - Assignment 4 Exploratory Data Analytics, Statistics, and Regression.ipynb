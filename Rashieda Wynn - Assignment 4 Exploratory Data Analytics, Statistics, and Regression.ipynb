{
 "cells": [
  {
   "cell_type": "code",
   "execution_count": 1,
   "id": "6439ff98",
   "metadata": {},
   "outputs": [],
   "source": [
    "import pandas as pd\n",
    "import numpy as np\n",
    "import seaborn as sns\n",
    "import matplotlib.pyplot as plt\n",
    "import scipy.stats as st\n",
    "import statsmodels.api as sm\n",
    "import statsmodels.formula.api as smf"
   ]
  },
  {
   "cell_type": "code",
   "execution_count": 2,
   "id": "b8c8d44c",
   "metadata": {},
   "outputs": [
    {
     "data": {
      "text/html": [
       "<div>\n",
       "<style scoped>\n",
       "    .dataframe tbody tr th:only-of-type {\n",
       "        vertical-align: middle;\n",
       "    }\n",
       "\n",
       "    .dataframe tbody tr th {\n",
       "        vertical-align: top;\n",
       "    }\n",
       "\n",
       "    .dataframe thead th {\n",
       "        text-align: right;\n",
       "    }\n",
       "</style>\n",
       "<table border=\"1\" class=\"dataframe\">\n",
       "  <thead>\n",
       "    <tr style=\"text-align: right;\">\n",
       "      <th></th>\n",
       "      <th>CustomerID</th>\n",
       "      <th>Adopt</th>\n",
       "      <th>Gender</th>\n",
       "      <th>Age</th>\n",
       "      <th>Nationality</th>\n",
       "      <th>Loyalty</th>\n",
       "      <th>Tenure</th>\n",
       "      <th>Post</th>\n",
       "      <th>NumBookings</th>\n",
       "      <th>Spending</th>\n",
       "    </tr>\n",
       "  </thead>\n",
       "  <tbody>\n",
       "    <tr>\n",
       "      <th>0</th>\n",
       "      <td>1001</td>\n",
       "      <td>1</td>\n",
       "      <td>Male</td>\n",
       "      <td>34</td>\n",
       "      <td>1</td>\n",
       "      <td>2</td>\n",
       "      <td>57</td>\n",
       "      <td>0</td>\n",
       "      <td>18</td>\n",
       "      <td>5760</td>\n",
       "    </tr>\n",
       "    <tr>\n",
       "      <th>1</th>\n",
       "      <td>1002</td>\n",
       "      <td>1</td>\n",
       "      <td>Female</td>\n",
       "      <td>36</td>\n",
       "      <td>1</td>\n",
       "      <td>2</td>\n",
       "      <td>5</td>\n",
       "      <td>0</td>\n",
       "      <td>6</td>\n",
       "      <td>1830</td>\n",
       "    </tr>\n",
       "    <tr>\n",
       "      <th>2</th>\n",
       "      <td>1003</td>\n",
       "      <td>1</td>\n",
       "      <td>Female</td>\n",
       "      <td>43</td>\n",
       "      <td>1</td>\n",
       "      <td>1</td>\n",
       "      <td>12</td>\n",
       "      <td>0</td>\n",
       "      <td>9</td>\n",
       "      <td>2682</td>\n",
       "    </tr>\n",
       "    <tr>\n",
       "      <th>3</th>\n",
       "      <td>1004</td>\n",
       "      <td>1</td>\n",
       "      <td>Male</td>\n",
       "      <td>47</td>\n",
       "      <td>1</td>\n",
       "      <td>1</td>\n",
       "      <td>70</td>\n",
       "      <td>0</td>\n",
       "      <td>21</td>\n",
       "      <td>6846</td>\n",
       "    </tr>\n",
       "    <tr>\n",
       "      <th>4</th>\n",
       "      <td>1005</td>\n",
       "      <td>1</td>\n",
       "      <td>Male</td>\n",
       "      <td>41</td>\n",
       "      <td>1</td>\n",
       "      <td>2</td>\n",
       "      <td>13</td>\n",
       "      <td>0</td>\n",
       "      <td>11</td>\n",
       "      <td>3377</td>\n",
       "    </tr>\n",
       "    <tr>\n",
       "      <th>...</th>\n",
       "      <td>...</td>\n",
       "      <td>...</td>\n",
       "      <td>...</td>\n",
       "      <td>...</td>\n",
       "      <td>...</td>\n",
       "      <td>...</td>\n",
       "      <td>...</td>\n",
       "      <td>...</td>\n",
       "      <td>...</td>\n",
       "      <td>...</td>\n",
       "    </tr>\n",
       "    <tr>\n",
       "      <th>3995</th>\n",
       "      <td>996</td>\n",
       "      <td>0</td>\n",
       "      <td>Male</td>\n",
       "      <td>25</td>\n",
       "      <td>1</td>\n",
       "      <td>1</td>\n",
       "      <td>16</td>\n",
       "      <td>1</td>\n",
       "      <td>5</td>\n",
       "      <td>1420</td>\n",
       "    </tr>\n",
       "    <tr>\n",
       "      <th>3996</th>\n",
       "      <td>997</td>\n",
       "      <td>0</td>\n",
       "      <td>Female</td>\n",
       "      <td>51</td>\n",
       "      <td>0</td>\n",
       "      <td>1</td>\n",
       "      <td>54</td>\n",
       "      <td>1</td>\n",
       "      <td>15</td>\n",
       "      <td>4395</td>\n",
       "    </tr>\n",
       "    <tr>\n",
       "      <th>3997</th>\n",
       "      <td>998</td>\n",
       "      <td>0</td>\n",
       "      <td>Female</td>\n",
       "      <td>39</td>\n",
       "      <td>1</td>\n",
       "      <td>2</td>\n",
       "      <td>58</td>\n",
       "      <td>1</td>\n",
       "      <td>18</td>\n",
       "      <td>5166</td>\n",
       "    </tr>\n",
       "    <tr>\n",
       "      <th>3998</th>\n",
       "      <td>999</td>\n",
       "      <td>0</td>\n",
       "      <td>Male</td>\n",
       "      <td>23</td>\n",
       "      <td>1</td>\n",
       "      <td>4</td>\n",
       "      <td>57</td>\n",
       "      <td>1</td>\n",
       "      <td>18</td>\n",
       "      <td>4896</td>\n",
       "    </tr>\n",
       "    <tr>\n",
       "      <th>3999</th>\n",
       "      <td>1000</td>\n",
       "      <td>0</td>\n",
       "      <td>Male</td>\n",
       "      <td>45</td>\n",
       "      <td>1</td>\n",
       "      <td>1</td>\n",
       "      <td>3</td>\n",
       "      <td>1</td>\n",
       "      <td>7</td>\n",
       "      <td>1470</td>\n",
       "    </tr>\n",
       "  </tbody>\n",
       "</table>\n",
       "<p>4000 rows × 10 columns</p>\n",
       "</div>"
      ],
      "text/plain": [
       "      CustomerID  Adopt  Gender  Age  Nationality  Loyalty  Tenure  Post  \\\n",
       "0           1001      1    Male   34            1        2      57     0   \n",
       "1           1002      1  Female   36            1        2       5     0   \n",
       "2           1003      1  Female   43            1        1      12     0   \n",
       "3           1004      1    Male   47            1        1      70     0   \n",
       "4           1005      1    Male   41            1        2      13     0   \n",
       "...          ...    ...     ...  ...          ...      ...     ...   ...   \n",
       "3995         996      0    Male   25            1        1      16     1   \n",
       "3996         997      0  Female   51            0        1      54     1   \n",
       "3997         998      0  Female   39            1        2      58     1   \n",
       "3998         999      0    Male   23            1        4      57     1   \n",
       "3999        1000      0    Male   45            1        1       3     1   \n",
       "\n",
       "      NumBookings  Spending  \n",
       "0              18      5760  \n",
       "1               6      1830  \n",
       "2               9      2682  \n",
       "3              21      6846  \n",
       "4              11      3377  \n",
       "...           ...       ...  \n",
       "3995            5      1420  \n",
       "3996           15      4395  \n",
       "3997           18      5166  \n",
       "3998           18      4896  \n",
       "3999            7      1470  \n",
       "\n",
       "[4000 rows x 10 columns]"
      ]
     },
     "execution_count": 2,
     "metadata": {},
     "output_type": "execute_result"
    }
   ],
   "source": [
    "df = pd.read_excel(r'D:\\Data Analyst Boot Camp\\Assignment Data\\Assignment 4\\data_cohort1_V2.xlsx')\n",
    "df"
   ]
  },
  {
   "cell_type": "code",
   "execution_count": 3,
   "id": "36323979",
   "metadata": {},
   "outputs": [],
   "source": [
    "#1. Descriptive statistics for customer's characteristics using the appropriate tables and and bar charts."
   ]
  },
  {
   "cell_type": "code",
   "execution_count": 4,
   "id": "647b8257",
   "metadata": {},
   "outputs": [
    {
     "data": {
      "text/plain": [
       "Male      2476\n",
       "Female    1524\n",
       "Name: Gender, dtype: int64"
      ]
     },
     "execution_count": 4,
     "metadata": {},
     "output_type": "execute_result"
    }
   ],
   "source": [
    "#1a. Perform descriptive statistics for customer's for Demographics: Gender, Age, and Nationality.\n",
    "df['Gender'].value_counts()"
   ]
  },
  {
   "cell_type": "code",
   "execution_count": 5,
   "id": "06e292ef",
   "metadata": {},
   "outputs": [
    {
     "data": {
      "text/plain": [
       "<AxesSubplot:xlabel='Gender', ylabel='Count'>"
      ]
     },
     "execution_count": 5,
     "metadata": {},
     "output_type": "execute_result"
    },
    {
     "data": {
      "image/png": "[encoded data removed]",
      "text/plain": [
       "<Figure size 432x288 with 1 Axes>"
      ]
     },
     "metadata": {
      "needs_background": "light"
     },
     "output_type": "display_data"
    }
   ],
   "source": [
    "sns.histplot(data = df, x = \"Gender\", color = 'blue',bins = 20)"
   ]
  },
  {
   "cell_type": "code",
   "execution_count": 6,
   "id": "853f3391",
   "metadata": {},
   "outputs": [
    {
     "data": {
      "text/plain": [
       "count    4000.000000\n",
       "mean       45.364000\n",
       "std         9.956771\n",
       "min        18.000000\n",
       "25%        39.000000\n",
       "50%        45.000000\n",
       "75%        52.000000\n",
       "max        79.000000\n",
       "Name: Age, dtype: float64"
      ]
     },
     "execution_count": 6,
     "metadata": {},
     "output_type": "execute_result"
    }
   ],
   "source": [
    "df['Age'].describe()"
   ]
  },
  {
   "cell_type": "code",
   "execution_count": 7,
   "id": "e1e59ef3",
   "metadata": {},
   "outputs": [
    {
     "data": {
      "text/plain": [
       "<AxesSubplot:xlabel='Age', ylabel='Count'>"
      ]
     },
     "execution_count": 7,
     "metadata": {},
     "output_type": "execute_result"
    },
    {
     "data": {
      "image/png": "[encoded data removed]",
      "text/plain": [
       "<Figure size 432x288 with 1 Axes>"
      ]
     },
     "metadata": {
      "needs_background": "light"
     },
     "output_type": "display_data"
    }
   ],
   "source": [
    "sns.histplot(data = df, x = \"Age\", color= 'blue', bins = 20)"
   ]
  },
  {
   "cell_type": "code",
   "execution_count": 8,
   "id": "9a625a60",
   "metadata": {},
   "outputs": [
    {
     "data": {
      "text/plain": [
       "<AxesSubplot:>"
      ]
     },
     "execution_count": 8,
     "metadata": {},
     "output_type": "execute_result"
    },
    {
     "data": {
      "image/png": "[encoded data removed]",
      "text/plain": [
       "<Figure size 432x288 with 1 Axes>"
      ]
     },
     "metadata": {
      "needs_background": "light"
     },
     "output_type": "display_data"
    }
   ],
   "source": [
    "df.boxplot(column=['Age'], grid=False, color = 'blue')"
   ]
  },
  {
   "cell_type": "code",
   "execution_count": 9,
   "id": "18ce1a5a",
   "metadata": {},
   "outputs": [
    {
     "data": {
      "text/plain": [
       "count    4000.000000\n",
       "mean        0.794000\n",
       "std         0.404481\n",
       "min         0.000000\n",
       "25%         1.000000\n",
       "50%         1.000000\n",
       "75%         1.000000\n",
       "max         1.000000\n",
       "Name: Nationality, dtype: float64"
      ]
     },
     "execution_count": 9,
     "metadata": {},
     "output_type": "execute_result"
    }
   ],
   "source": [
    "df['Nationality'].describe()"
   ]
  },
  {
   "cell_type": "code",
   "execution_count": 10,
   "id": "6bb4339c",
   "metadata": {},
   "outputs": [
    {
     "data": {
      "image/png": "[encoded data removed]",
      "text/plain": [
       "<Figure size 432x288 with 1 Axes>"
      ]
     },
     "metadata": {
      "needs_background": "light"
     },
     "output_type": "display_data"
    }
   ],
   "source": [
    "ax = sns.countplot(x='Nationality', data = df)"
   ]
  },
  {
   "cell_type": "code",
   "execution_count": 11,
   "id": "cfafda37",
   "metadata": {},
   "outputs": [
    {
     "data": {
      "image/png": "[encoded data removed]",
      "text/plain": [
       "<Figure size 432x288 with 1 Axes>"
      ]
     },
     "metadata": {
      "needs_background": "light"
     },
     "output_type": "display_data"
    }
   ],
   "source": [
    "#1b. Perform descriptive statistics for Loyalty Membership and Tenure with the hotel chain in months.\n",
    "ax = sns.boxplot(x='Loyalty', data = df)"
   ]
  },
  {
   "cell_type": "code",
   "execution_count": 12,
   "id": "9def8d95",
   "metadata": {},
   "outputs": [
    {
     "data": {
      "image/png": "[encoded data removed]",
      "text/plain": [
       "<Figure size 432x288 with 1 Axes>"
      ]
     },
     "metadata": {
      "needs_background": "light"
     },
     "output_type": "display_data"
    }
   ],
   "source": [
    "ax = sns.boxplot(x='Tenure', data = df)"
   ]
  },
  {
   "cell_type": "code",
   "execution_count": 13,
   "id": "c763f3cd",
   "metadata": {},
   "outputs": [
    {
     "data": {
      "text/plain": [
       "<AxesSubplot:xlabel='Tenure', ylabel='Count'>"
      ]
     },
     "execution_count": 13,
     "metadata": {},
     "output_type": "execute_result"
    },
    {
     "data": {
      "image/png": "[encoded data removed]",
      "text/plain": [
       "<Figure size 432x288 with 1 Axes>"
      ]
     },
     "metadata": {
      "needs_background": "light"
     },
     "output_type": "display_data"
    }
   ],
   "source": [
    "sns.histplot(data = df, x = \"Tenure\", color= 'blue', bins = 20)"
   ]
  },
  {
   "cell_type": "code",
   "execution_count": 14,
   "id": "dac66a57",
   "metadata": {},
   "outputs": [],
   "source": [
    "#2. Data Summary of customer's purchase behavior"
   ]
  },
  {
   "cell_type": "code",
   "execution_count": 15,
   "id": "287dee5c",
   "metadata": {},
   "outputs": [
    {
     "data": {
      "text/html": [
       "<div>\n",
       "<style scoped>\n",
       "    .dataframe tbody tr th:only-of-type {\n",
       "        vertical-align: middle;\n",
       "    }\n",
       "\n",
       "    .dataframe tbody tr th {\n",
       "        vertical-align: top;\n",
       "    }\n",
       "\n",
       "    .dataframe thead th {\n",
       "        text-align: right;\n",
       "    }\n",
       "</style>\n",
       "<table border=\"1\" class=\"dataframe\">\n",
       "  <thead>\n",
       "    <tr style=\"text-align: right;\">\n",
       "      <th></th>\n",
       "      <th>Spending</th>\n",
       "      <th>NumBookings</th>\n",
       "    </tr>\n",
       "  </thead>\n",
       "  <tbody>\n",
       "    <tr>\n",
       "      <th>0</th>\n",
       "      <td>5760</td>\n",
       "      <td>18</td>\n",
       "    </tr>\n",
       "    <tr>\n",
       "      <th>1</th>\n",
       "      <td>1830</td>\n",
       "      <td>6</td>\n",
       "    </tr>\n",
       "    <tr>\n",
       "      <th>2</th>\n",
       "      <td>2682</td>\n",
       "      <td>9</td>\n",
       "    </tr>\n",
       "    <tr>\n",
       "      <th>3</th>\n",
       "      <td>6846</td>\n",
       "      <td>21</td>\n",
       "    </tr>\n",
       "    <tr>\n",
       "      <th>4</th>\n",
       "      <td>3377</td>\n",
       "      <td>11</td>\n",
       "    </tr>\n",
       "    <tr>\n",
       "      <th>...</th>\n",
       "      <td>...</td>\n",
       "      <td>...</td>\n",
       "    </tr>\n",
       "    <tr>\n",
       "      <th>3995</th>\n",
       "      <td>1420</td>\n",
       "      <td>5</td>\n",
       "    </tr>\n",
       "    <tr>\n",
       "      <th>3996</th>\n",
       "      <td>4395</td>\n",
       "      <td>15</td>\n",
       "    </tr>\n",
       "    <tr>\n",
       "      <th>3997</th>\n",
       "      <td>5166</td>\n",
       "      <td>18</td>\n",
       "    </tr>\n",
       "    <tr>\n",
       "      <th>3998</th>\n",
       "      <td>4896</td>\n",
       "      <td>18</td>\n",
       "    </tr>\n",
       "    <tr>\n",
       "      <th>3999</th>\n",
       "      <td>1470</td>\n",
       "      <td>7</td>\n",
       "    </tr>\n",
       "  </tbody>\n",
       "</table>\n",
       "<p>4000 rows × 2 columns</p>\n",
       "</div>"
      ],
      "text/plain": [
       "      Spending  NumBookings\n",
       "0         5760           18\n",
       "1         1830            6\n",
       "2         2682            9\n",
       "3         6846           21\n",
       "4         3377           11\n",
       "...        ...          ...\n",
       "3995      1420            5\n",
       "3996      4395           15\n",
       "3997      5166           18\n",
       "3998      4896           18\n",
       "3999      1470            7\n",
       "\n",
       "[4000 rows x 2 columns]"
      ]
     },
     "execution_count": 15,
     "metadata": {},
     "output_type": "execute_result"
    }
   ],
   "source": [
    "#2. Use appropriate tables for the summary statistics and graphics to describe customer's purchase behavior (Amount Spent and Number of Bookings.\n",
    "df1 = df [['Spending','NumBookings']]\n",
    "df1"
   ]
  },
  {
   "cell_type": "code",
   "execution_count": 48,
   "id": "19046ccc",
   "metadata": {},
   "outputs": [
    {
     "data": {
      "text/html": [
       "<div>\n",
       "<style scoped>\n",
       "    .dataframe tbody tr th:only-of-type {\n",
       "        vertical-align: middle;\n",
       "    }\n",
       "\n",
       "    .dataframe tbody tr th {\n",
       "        vertical-align: top;\n",
       "    }\n",
       "\n",
       "    .dataframe thead th {\n",
       "        text-align: right;\n",
       "    }\n",
       "</style>\n",
       "<table border=\"1\" class=\"dataframe\">\n",
       "  <thead>\n",
       "    <tr style=\"text-align: right;\">\n",
       "      <th></th>\n",
       "      <th>Spending</th>\n",
       "      <th>NumBookings</th>\n",
       "    </tr>\n",
       "  </thead>\n",
       "  <tbody>\n",
       "    <tr>\n",
       "      <th>count</th>\n",
       "      <td>4000.000000</td>\n",
       "      <td>4000.000000</td>\n",
       "    </tr>\n",
       "    <tr>\n",
       "      <th>mean</th>\n",
       "      <td>4547.248250</td>\n",
       "      <td>16.246250</td>\n",
       "    </tr>\n",
       "    <tr>\n",
       "      <th>std</th>\n",
       "      <td>1781.267612</td>\n",
       "      <td>6.115469</td>\n",
       "    </tr>\n",
       "    <tr>\n",
       "      <th>min</th>\n",
       "      <td>297.000000</td>\n",
       "      <td>1.000000</td>\n",
       "    </tr>\n",
       "    <tr>\n",
       "      <th>25%</th>\n",
       "      <td>3168.000000</td>\n",
       "      <td>11.000000</td>\n",
       "    </tr>\n",
       "    <tr>\n",
       "      <th>50%</th>\n",
       "      <td>4518.000000</td>\n",
       "      <td>16.000000</td>\n",
       "    </tr>\n",
       "    <tr>\n",
       "      <th>75%</th>\n",
       "      <td>5880.000000</td>\n",
       "      <td>21.000000</td>\n",
       "    </tr>\n",
       "    <tr>\n",
       "      <th>max</th>\n",
       "      <td>11377.000000</td>\n",
       "      <td>32.000000</td>\n",
       "    </tr>\n",
       "  </tbody>\n",
       "</table>\n",
       "</div>"
      ],
      "text/plain": [
       "           Spending  NumBookings\n",
       "count   4000.000000  4000.000000\n",
       "mean    4547.248250    16.246250\n",
       "std     1781.267612     6.115469\n",
       "min      297.000000     1.000000\n",
       "25%     3168.000000    11.000000\n",
       "50%     4518.000000    16.000000\n",
       "75%     5880.000000    21.000000\n",
       "max    11377.000000    32.000000"
      ]
     },
     "execution_count": 48,
     "metadata": {},
     "output_type": "execute_result"
    }
   ],
   "source": [
    "df1.describe()"
   ]
  },
  {
   "cell_type": "code",
   "execution_count": 49,
   "id": "51f959e9",
   "metadata": {},
   "outputs": [
    {
     "data": {
      "text/html": [
       "<div>\n",
       "<style scoped>\n",
       "    .dataframe tbody tr th:only-of-type {\n",
       "        vertical-align: middle;\n",
       "    }\n",
       "\n",
       "    .dataframe tbody tr th {\n",
       "        vertical-align: top;\n",
       "    }\n",
       "\n",
       "    .dataframe thead th {\n",
       "        text-align: right;\n",
       "    }\n",
       "</style>\n",
       "<table border=\"1\" class=\"dataframe\">\n",
       "  <thead>\n",
       "    <tr style=\"text-align: right;\">\n",
       "      <th></th>\n",
       "      <th>Spending</th>\n",
       "      <th>NumBookings</th>\n",
       "    </tr>\n",
       "  </thead>\n",
       "  <tbody>\n",
       "    <tr>\n",
       "      <th>Spending</th>\n",
       "      <td>1.000000</td>\n",
       "      <td>0.960651</td>\n",
       "    </tr>\n",
       "    <tr>\n",
       "      <th>NumBookings</th>\n",
       "      <td>0.960651</td>\n",
       "      <td>1.000000</td>\n",
       "    </tr>\n",
       "  </tbody>\n",
       "</table>\n",
       "</div>"
      ],
      "text/plain": [
       "             Spending  NumBookings\n",
       "Spending     1.000000     0.960651\n",
       "NumBookings  0.960651     1.000000"
      ]
     },
     "execution_count": 49,
     "metadata": {},
     "output_type": "execute_result"
    }
   ],
   "source": [
    "df1.corr()"
   ]
  },
  {
   "cell_type": "code",
   "execution_count": 17,
   "id": "b9ce74ae",
   "metadata": {},
   "outputs": [
    {
     "data": {
      "text/plain": [
       "<seaborn.axisgrid.PairGrid at 0x18ee655e580>"
      ]
     },
     "execution_count": 17,
     "metadata": {},
     "output_type": "execute_result"
    },
    {
     "data": {
      "image/png": "[encoded data removed]",
      "text/plain": [
       "<Figure size 360x360 with 6 Axes>"
      ]
     },
     "metadata": {
      "needs_background": "light"
     },
     "output_type": "display_data"
    }
   ],
   "source": [
    "sns.pairplot(df1, diag_kind= 'kde', plot_kws = {'alpha':.2})"
   ]
  },
  {
   "cell_type": "code",
   "execution_count": 18,
   "id": "222aec49",
   "metadata": {},
   "outputs": [
    {
     "data": {
      "text/plain": [
       "<AxesSubplot:xlabel='Spending', ylabel='NumBookings'>"
      ]
     },
     "execution_count": 18,
     "metadata": {},
     "output_type": "execute_result"
    },
    {
     "data": {
      "image/png": "[encoded data removed]",
      "text/plain": [
       "<Figure size 432x288 with 1 Axes>"
      ]
     },
     "metadata": {
      "needs_background": "light"
     },
     "output_type": "display_data"
    }
   ],
   "source": [
    "sns.regplot(x='Spending', y='NumBookings',data=df)\n"
   ]
  },
  {
   "cell_type": "code",
   "execution_count": 19,
   "id": "7f7d86e4",
   "metadata": {},
   "outputs": [],
   "source": [
    "#3 Construct relevant pivot tables, bar charts, and scatterplots to get a preliminary understanding of the relationship between customers' characteristics and their purchase behavior.\n"
   ]
  },
  {
   "cell_type": "code",
   "execution_count": 20,
   "id": "44e6feb2",
   "metadata": {},
   "outputs": [
    {
     "data": {
      "text/html": [
       "<div>\n",
       "<style scoped>\n",
       "    .dataframe tbody tr th:only-of-type {\n",
       "        vertical-align: middle;\n",
       "    }\n",
       "\n",
       "    .dataframe tbody tr th {\n",
       "        vertical-align: top;\n",
       "    }\n",
       "\n",
       "    .dataframe thead th {\n",
       "        text-align: right;\n",
       "    }\n",
       "</style>\n",
       "<table border=\"1\" class=\"dataframe\">\n",
       "  <thead>\n",
       "    <tr style=\"text-align: right;\">\n",
       "      <th></th>\n",
       "      <th>Loyalty</th>\n",
       "      <th>Spending</th>\n",
       "    </tr>\n",
       "    <tr>\n",
       "      <th>Gender</th>\n",
       "      <th></th>\n",
       "      <th></th>\n",
       "    </tr>\n",
       "  </thead>\n",
       "  <tbody>\n",
       "    <tr>\n",
       "      <th>Female</th>\n",
       "      <td>1.769029</td>\n",
       "      <td>4461.074147</td>\n",
       "    </tr>\n",
       "    <tr>\n",
       "      <th>Male</th>\n",
       "      <td>1.775444</td>\n",
       "      <td>4600.289176</td>\n",
       "    </tr>\n",
       "  </tbody>\n",
       "</table>\n",
       "</div>"
      ],
      "text/plain": [
       "         Loyalty     Spending\n",
       "Gender                       \n",
       "Female  1.769029  4461.074147\n",
       "Male    1.775444  4600.289176"
      ]
     },
     "execution_count": 20,
     "metadata": {},
     "output_type": "execute_result"
    }
   ],
   "source": [
    "df.pivot_table(['Spending','Loyalty'],index= 'Gender' )"
   ]
  },
  {
   "cell_type": "code",
   "execution_count": 21,
   "id": "1d747058",
   "metadata": {},
   "outputs": [
    {
     "data": {
      "image/png": "[encoded data removed]",
      "text/plain": [
       "<Figure size 432x288 with 1 Axes>"
      ]
     },
     "metadata": {
      "needs_background": "light"
     },
     "output_type": "display_data"
    }
   ],
   "source": [
    "sns.barplot(x='Gender', y='Spending', data = df)\n",
    "plt.show()"
   ]
  },
  {
   "cell_type": "code",
   "execution_count": 22,
   "id": "f05a5028",
   "metadata": {},
   "outputs": [
    {
     "data": {
      "image/png": "[encoded data removed]",
      "text/plain": [
       "<Figure size 432x288 with 1 Axes>"
      ]
     },
     "metadata": {
      "needs_background": "light"
     },
     "output_type": "display_data"
    }
   ],
   "source": [
    "sns.barplot(x='Gender', y='Loyalty', data = df)\n",
    "plt.show()"
   ]
  },
  {
   "cell_type": "code",
   "execution_count": 23,
   "id": "f85241a6",
   "metadata": {},
   "outputs": [
    {
     "data": {
      "text/html": [
       "<div>\n",
       "<style scoped>\n",
       "    .dataframe tbody tr th:only-of-type {\n",
       "        vertical-align: middle;\n",
       "    }\n",
       "\n",
       "    .dataframe tbody tr th {\n",
       "        vertical-align: top;\n",
       "    }\n",
       "\n",
       "    .dataframe thead th {\n",
       "        text-align: right;\n",
       "    }\n",
       "</style>\n",
       "<table border=\"1\" class=\"dataframe\">\n",
       "  <thead>\n",
       "    <tr style=\"text-align: right;\">\n",
       "      <th></th>\n",
       "      <th>Age</th>\n",
       "      <th>Spending</th>\n",
       "    </tr>\n",
       "    <tr>\n",
       "      <th>Gender</th>\n",
       "      <th></th>\n",
       "      <th></th>\n",
       "    </tr>\n",
       "  </thead>\n",
       "  <tbody>\n",
       "    <tr>\n",
       "      <th>Female</th>\n",
       "      <td>45.511811</td>\n",
       "      <td>4461.074147</td>\n",
       "    </tr>\n",
       "    <tr>\n",
       "      <th>Male</th>\n",
       "      <td>45.273021</td>\n",
       "      <td>4600.289176</td>\n",
       "    </tr>\n",
       "  </tbody>\n",
       "</table>\n",
       "</div>"
      ],
      "text/plain": [
       "              Age     Spending\n",
       "Gender                        \n",
       "Female  45.511811  4461.074147\n",
       "Male    45.273021  4600.289176"
      ]
     },
     "execution_count": 23,
     "metadata": {},
     "output_type": "execute_result"
    }
   ],
   "source": [
    "df.pivot_table(['Age','Spending'],index= 'Gender' )"
   ]
  },
  {
   "cell_type": "code",
   "execution_count": 45,
   "id": "7f595e45",
   "metadata": {},
   "outputs": [
    {
     "data": {
      "image/png": "[encoded data removed]",
      "text/plain": [
       "<Figure size 432x288 with 1 Axes>"
      ]
     },
     "metadata": {
      "needs_background": "light"
     },
     "output_type": "display_data"
    }
   ],
   "source": [
    "sns.barplot(x='Gender', y='Spending', data = df)\n",
    "plt.show()"
   ]
  },
  {
   "cell_type": "code",
   "execution_count": 25,
   "id": "a41dafca",
   "metadata": {},
   "outputs": [
    {
     "data": {
      "text/html": [
       "<div>\n",
       "<style scoped>\n",
       "    .dataframe tbody tr th:only-of-type {\n",
       "        vertical-align: middle;\n",
       "    }\n",
       "\n",
       "    .dataframe tbody tr th {\n",
       "        vertical-align: top;\n",
       "    }\n",
       "\n",
       "    .dataframe thead th {\n",
       "        text-align: right;\n",
       "    }\n",
       "</style>\n",
       "<table border=\"1\" class=\"dataframe\">\n",
       "  <thead>\n",
       "    <tr style=\"text-align: right;\">\n",
       "      <th></th>\n",
       "      <th>Spending</th>\n",
       "      <th>Age</th>\n",
       "    </tr>\n",
       "  </thead>\n",
       "  <tbody>\n",
       "    <tr>\n",
       "      <th>0</th>\n",
       "      <td>5760</td>\n",
       "      <td>34</td>\n",
       "    </tr>\n",
       "    <tr>\n",
       "      <th>1</th>\n",
       "      <td>1830</td>\n",
       "      <td>36</td>\n",
       "    </tr>\n",
       "    <tr>\n",
       "      <th>2</th>\n",
       "      <td>2682</td>\n",
       "      <td>43</td>\n",
       "    </tr>\n",
       "    <tr>\n",
       "      <th>3</th>\n",
       "      <td>6846</td>\n",
       "      <td>47</td>\n",
       "    </tr>\n",
       "    <tr>\n",
       "      <th>4</th>\n",
       "      <td>3377</td>\n",
       "      <td>41</td>\n",
       "    </tr>\n",
       "    <tr>\n",
       "      <th>...</th>\n",
       "      <td>...</td>\n",
       "      <td>...</td>\n",
       "    </tr>\n",
       "    <tr>\n",
       "      <th>3995</th>\n",
       "      <td>1420</td>\n",
       "      <td>25</td>\n",
       "    </tr>\n",
       "    <tr>\n",
       "      <th>3996</th>\n",
       "      <td>4395</td>\n",
       "      <td>51</td>\n",
       "    </tr>\n",
       "    <tr>\n",
       "      <th>3997</th>\n",
       "      <td>5166</td>\n",
       "      <td>39</td>\n",
       "    </tr>\n",
       "    <tr>\n",
       "      <th>3998</th>\n",
       "      <td>4896</td>\n",
       "      <td>23</td>\n",
       "    </tr>\n",
       "    <tr>\n",
       "      <th>3999</th>\n",
       "      <td>1470</td>\n",
       "      <td>45</td>\n",
       "    </tr>\n",
       "  </tbody>\n",
       "</table>\n",
       "<p>4000 rows × 2 columns</p>\n",
       "</div>"
      ],
      "text/plain": [
       "      Spending  Age\n",
       "0         5760   34\n",
       "1         1830   36\n",
       "2         2682   43\n",
       "3         6846   47\n",
       "4         3377   41\n",
       "...        ...  ...\n",
       "3995      1420   25\n",
       "3996      4395   51\n",
       "3997      5166   39\n",
       "3998      4896   23\n",
       "3999      1470   45\n",
       "\n",
       "[4000 rows x 2 columns]"
      ]
     },
     "execution_count": 25,
     "metadata": {},
     "output_type": "execute_result"
    }
   ],
   "source": [
    "df3 = df [['Spending','Age']]\n",
    "df3"
   ]
  },
  {
   "cell_type": "code",
   "execution_count": 26,
   "id": "a78fe27b",
   "metadata": {},
   "outputs": [
    {
     "data": {
      "text/plain": [
       "<AxesSubplot:xlabel='Age', ylabel='Spending'>"
      ]
     },
     "execution_count": 26,
     "metadata": {},
     "output_type": "execute_result"
    },
    {
     "data": {
      "image/png": "[encoded data removed]",
      "text/plain": [
       "<Figure size 432x288 with 1 Axes>"
      ]
     },
     "metadata": {
      "needs_background": "light"
     },
     "output_type": "display_data"
    }
   ],
   "source": [
    "df3.plot.scatter(x='Age', y='Spending', c='Blue')"
   ]
  },
  {
   "cell_type": "code",
   "execution_count": 27,
   "id": "0ff95c73",
   "metadata": {},
   "outputs": [],
   "source": [
    "#Examine the relationship between the customers' characteristics and their purchase behavior."
   ]
  },
  {
   "cell_type": "code",
   "execution_count": 28,
   "id": "c2f4b8ef",
   "metadata": {},
   "outputs": [
    {
     "data": {
      "text/html": [
       "<div>\n",
       "<style scoped>\n",
       "    .dataframe tbody tr th:only-of-type {\n",
       "        vertical-align: middle;\n",
       "    }\n",
       "\n",
       "    .dataframe tbody tr th {\n",
       "        vertical-align: top;\n",
       "    }\n",
       "\n",
       "    .dataframe thead th {\n",
       "        text-align: right;\n",
       "    }\n",
       "</style>\n",
       "<table border=\"1\" class=\"dataframe\">\n",
       "  <thead>\n",
       "    <tr style=\"text-align: right;\">\n",
       "      <th></th>\n",
       "      <th>CustomerID</th>\n",
       "      <th>Adopt</th>\n",
       "      <th>Age</th>\n",
       "      <th>Nationality</th>\n",
       "      <th>Loyalty</th>\n",
       "      <th>Post</th>\n",
       "      <th>NumBookings</th>\n",
       "      <th>Spending</th>\n",
       "    </tr>\n",
       "  </thead>\n",
       "  <tbody>\n",
       "    <tr>\n",
       "      <th>0</th>\n",
       "      <td>1001</td>\n",
       "      <td>1</td>\n",
       "      <td>34</td>\n",
       "      <td>1</td>\n",
       "      <td>2</td>\n",
       "      <td>0</td>\n",
       "      <td>18</td>\n",
       "      <td>5760</td>\n",
       "    </tr>\n",
       "    <tr>\n",
       "      <th>1</th>\n",
       "      <td>1002</td>\n",
       "      <td>1</td>\n",
       "      <td>36</td>\n",
       "      <td>1</td>\n",
       "      <td>2</td>\n",
       "      <td>0</td>\n",
       "      <td>6</td>\n",
       "      <td>1830</td>\n",
       "    </tr>\n",
       "    <tr>\n",
       "      <th>2</th>\n",
       "      <td>1003</td>\n",
       "      <td>1</td>\n",
       "      <td>43</td>\n",
       "      <td>1</td>\n",
       "      <td>1</td>\n",
       "      <td>0</td>\n",
       "      <td>9</td>\n",
       "      <td>2682</td>\n",
       "    </tr>\n",
       "    <tr>\n",
       "      <th>3</th>\n",
       "      <td>1004</td>\n",
       "      <td>1</td>\n",
       "      <td>47</td>\n",
       "      <td>1</td>\n",
       "      <td>1</td>\n",
       "      <td>0</td>\n",
       "      <td>21</td>\n",
       "      <td>6846</td>\n",
       "    </tr>\n",
       "    <tr>\n",
       "      <th>4</th>\n",
       "      <td>1005</td>\n",
       "      <td>1</td>\n",
       "      <td>41</td>\n",
       "      <td>1</td>\n",
       "      <td>2</td>\n",
       "      <td>0</td>\n",
       "      <td>11</td>\n",
       "      <td>3377</td>\n",
       "    </tr>\n",
       "    <tr>\n",
       "      <th>...</th>\n",
       "      <td>...</td>\n",
       "      <td>...</td>\n",
       "      <td>...</td>\n",
       "      <td>...</td>\n",
       "      <td>...</td>\n",
       "      <td>...</td>\n",
       "      <td>...</td>\n",
       "      <td>...</td>\n",
       "    </tr>\n",
       "    <tr>\n",
       "      <th>3995</th>\n",
       "      <td>996</td>\n",
       "      <td>0</td>\n",
       "      <td>25</td>\n",
       "      <td>1</td>\n",
       "      <td>1</td>\n",
       "      <td>1</td>\n",
       "      <td>5</td>\n",
       "      <td>1420</td>\n",
       "    </tr>\n",
       "    <tr>\n",
       "      <th>3996</th>\n",
       "      <td>997</td>\n",
       "      <td>0</td>\n",
       "      <td>51</td>\n",
       "      <td>0</td>\n",
       "      <td>1</td>\n",
       "      <td>1</td>\n",
       "      <td>15</td>\n",
       "      <td>4395</td>\n",
       "    </tr>\n",
       "    <tr>\n",
       "      <th>3997</th>\n",
       "      <td>998</td>\n",
       "      <td>0</td>\n",
       "      <td>39</td>\n",
       "      <td>1</td>\n",
       "      <td>2</td>\n",
       "      <td>1</td>\n",
       "      <td>18</td>\n",
       "      <td>5166</td>\n",
       "    </tr>\n",
       "    <tr>\n",
       "      <th>3998</th>\n",
       "      <td>999</td>\n",
       "      <td>0</td>\n",
       "      <td>23</td>\n",
       "      <td>1</td>\n",
       "      <td>4</td>\n",
       "      <td>1</td>\n",
       "      <td>18</td>\n",
       "      <td>4896</td>\n",
       "    </tr>\n",
       "    <tr>\n",
       "      <th>3999</th>\n",
       "      <td>1000</td>\n",
       "      <td>0</td>\n",
       "      <td>45</td>\n",
       "      <td>1</td>\n",
       "      <td>1</td>\n",
       "      <td>1</td>\n",
       "      <td>7</td>\n",
       "      <td>1470</td>\n",
       "    </tr>\n",
       "  </tbody>\n",
       "</table>\n",
       "<p>4000 rows × 8 columns</p>\n",
       "</div>"
      ],
      "text/plain": [
       "      CustomerID  Adopt  Age  Nationality  Loyalty  Post  NumBookings  \\\n",
       "0           1001      1   34            1        2     0           18   \n",
       "1           1002      1   36            1        2     0            6   \n",
       "2           1003      1   43            1        1     0            9   \n",
       "3           1004      1   47            1        1     0           21   \n",
       "4           1005      1   41            1        2     0           11   \n",
       "...          ...    ...  ...          ...      ...   ...          ...   \n",
       "3995         996      0   25            1        1     1            5   \n",
       "3996         997      0   51            0        1     1           15   \n",
       "3997         998      0   39            1        2     1           18   \n",
       "3998         999      0   23            1        4     1           18   \n",
       "3999        1000      0   45            1        1     1            7   \n",
       "\n",
       "      Spending  \n",
       "0         5760  \n",
       "1         1830  \n",
       "2         2682  \n",
       "3         6846  \n",
       "4         3377  \n",
       "...        ...  \n",
       "3995      1420  \n",
       "3996      4395  \n",
       "3997      5166  \n",
       "3998      4896  \n",
       "3999      1470  \n",
       "\n",
       "[4000 rows x 8 columns]"
      ]
     },
     "execution_count": 28,
     "metadata": {},
     "output_type": "execute_result"
    }
   ],
   "source": [
    "df4 = df [['CustomerID','Adopt','Age','Nationality','Loyalty','Post','NumBookings','Spending']]\n",
    "df4"
   ]
  },
  {
   "cell_type": "code",
   "execution_count": 29,
   "id": "51789c30",
   "metadata": {},
   "outputs": [
    {
     "data": {
      "text/html": [
       "<div>\n",
       "<style scoped>\n",
       "    .dataframe tbody tr th:only-of-type {\n",
       "        vertical-align: middle;\n",
       "    }\n",
       "\n",
       "    .dataframe tbody tr th {\n",
       "        vertical-align: top;\n",
       "    }\n",
       "\n",
       "    .dataframe thead th {\n",
       "        text-align: right;\n",
       "    }\n",
       "</style>\n",
       "<table border=\"1\" class=\"dataframe\">\n",
       "  <thead>\n",
       "    <tr style=\"text-align: right;\">\n",
       "      <th></th>\n",
       "      <th>CustomerID</th>\n",
       "      <th>Adopt</th>\n",
       "      <th>Age</th>\n",
       "      <th>Nationality</th>\n",
       "      <th>Loyalty</th>\n",
       "      <th>Post</th>\n",
       "      <th>NumBookings</th>\n",
       "      <th>Spending</th>\n",
       "    </tr>\n",
       "  </thead>\n",
       "  <tbody>\n",
       "    <tr>\n",
       "      <th>CustomerID</th>\n",
       "      <td>1.000000e+00</td>\n",
       "      <td>8.660255e-01</td>\n",
       "      <td>-4.260377e-02</td>\n",
       "      <td>-1.708152e-02</td>\n",
       "      <td>1.792886e-02</td>\n",
       "      <td>3.493452e-16</td>\n",
       "      <td>-0.023717</td>\n",
       "      <td>0.137578</td>\n",
       "    </tr>\n",
       "    <tr>\n",
       "      <th>Adopt</th>\n",
       "      <td>8.660255e-01</td>\n",
       "      <td>1.000000e+00</td>\n",
       "      <td>-5.022336e-02</td>\n",
       "      <td>-7.417839e-03</td>\n",
       "      <td>1.249943e-02</td>\n",
       "      <td>-4.494183e-16</td>\n",
       "      <td>-0.039863</td>\n",
       "      <td>0.145252</td>\n",
       "    </tr>\n",
       "    <tr>\n",
       "      <th>Age</th>\n",
       "      <td>-4.260377e-02</td>\n",
       "      <td>-5.022336e-02</td>\n",
       "      <td>1.000000e+00</td>\n",
       "      <td>1.589144e-02</td>\n",
       "      <td>-1.094271e-02</td>\n",
       "      <td>-1.089773e-15</td>\n",
       "      <td>0.149759</td>\n",
       "      <td>0.142395</td>\n",
       "    </tr>\n",
       "    <tr>\n",
       "      <th>Nationality</th>\n",
       "      <td>-1.708152e-02</td>\n",
       "      <td>-7.417839e-03</td>\n",
       "      <td>1.589144e-02</td>\n",
       "      <td>1.000000e+00</td>\n",
       "      <td>-7.361306e-04</td>\n",
       "      <td>-5.967102e-16</td>\n",
       "      <td>0.031734</td>\n",
       "      <td>0.028043</td>\n",
       "    </tr>\n",
       "    <tr>\n",
       "      <th>Loyalty</th>\n",
       "      <td>1.792886e-02</td>\n",
       "      <td>1.249943e-02</td>\n",
       "      <td>-1.094271e-02</td>\n",
       "      <td>-7.361306e-04</td>\n",
       "      <td>1.000000e+00</td>\n",
       "      <td>-5.247456e-16</td>\n",
       "      <td>0.187719</td>\n",
       "      <td>0.185180</td>\n",
       "    </tr>\n",
       "    <tr>\n",
       "      <th>Post</th>\n",
       "      <td>3.493452e-16</td>\n",
       "      <td>-4.494183e-16</td>\n",
       "      <td>-1.089773e-15</td>\n",
       "      <td>-5.967102e-16</td>\n",
       "      <td>-5.247456e-16</td>\n",
       "      <td>1.000000e+00</td>\n",
       "      <td>-0.172330</td>\n",
       "      <td>-0.176905</td>\n",
       "    </tr>\n",
       "    <tr>\n",
       "      <th>NumBookings</th>\n",
       "      <td>-2.371725e-02</td>\n",
       "      <td>-3.986292e-02</td>\n",
       "      <td>1.497593e-01</td>\n",
       "      <td>3.173407e-02</td>\n",
       "      <td>1.877186e-01</td>\n",
       "      <td>-1.723305e-01</td>\n",
       "      <td>1.000000</td>\n",
       "      <td>0.960651</td>\n",
       "    </tr>\n",
       "    <tr>\n",
       "      <th>Spending</th>\n",
       "      <td>1.375778e-01</td>\n",
       "      <td>1.452519e-01</td>\n",
       "      <td>1.423946e-01</td>\n",
       "      <td>2.804337e-02</td>\n",
       "      <td>1.851802e-01</td>\n",
       "      <td>-1.769047e-01</td>\n",
       "      <td>0.960651</td>\n",
       "      <td>1.000000</td>\n",
       "    </tr>\n",
       "  </tbody>\n",
       "</table>\n",
       "</div>"
      ],
      "text/plain": [
       "               CustomerID         Adopt           Age   Nationality  \\\n",
       "CustomerID   1.000000e+00  8.660255e-01 -4.260377e-02 -1.708152e-02   \n",
       "Adopt        8.660255e-01  1.000000e+00 -5.022336e-02 -7.417839e-03   \n",
       "Age         -4.260377e-02 -5.022336e-02  1.000000e+00  1.589144e-02   \n",
       "Nationality -1.708152e-02 -7.417839e-03  1.589144e-02  1.000000e+00   \n",
       "Loyalty      1.792886e-02  1.249943e-02 -1.094271e-02 -7.361306e-04   \n",
       "Post         3.493452e-16 -4.494183e-16 -1.089773e-15 -5.967102e-16   \n",
       "NumBookings -2.371725e-02 -3.986292e-02  1.497593e-01  3.173407e-02   \n",
       "Spending     1.375778e-01  1.452519e-01  1.423946e-01  2.804337e-02   \n",
       "\n",
       "                  Loyalty          Post  NumBookings  Spending  \n",
       "CustomerID   1.792886e-02  3.493452e-16    -0.023717  0.137578  \n",
       "Adopt        1.249943e-02 -4.494183e-16    -0.039863  0.145252  \n",
       "Age         -1.094271e-02 -1.089773e-15     0.149759  0.142395  \n",
       "Nationality -7.361306e-04 -5.967102e-16     0.031734  0.028043  \n",
       "Loyalty      1.000000e+00 -5.247456e-16     0.187719  0.185180  \n",
       "Post        -5.247456e-16  1.000000e+00    -0.172330 -0.176905  \n",
       "NumBookings  1.877186e-01 -1.723305e-01     1.000000  0.960651  \n",
       "Spending     1.851802e-01 -1.769047e-01     0.960651  1.000000  "
      ]
     },
     "execution_count": 29,
     "metadata": {},
     "output_type": "execute_result"
    }
   ],
   "source": [
    "#Generate a table of the correlations of all the numerical variables of the data set.\n",
    "df4.corr()"
   ]
  },
  {
   "cell_type": "code",
   "execution_count": 30,
   "id": "c65a5f22",
   "metadata": {},
   "outputs": [
    {
     "name": "stdout",
     "output_type": "stream",
     "text": [
      "The 95% confidence interval for the population mean: (4492.030496654635, 4602.466003345365)\n"
     ]
    }
   ],
   "source": [
    "#Determine whether there is a statistically significant difference between the spending of men and women.(Please use the appropriate hypothesis test.)\n",
    "data = df['Spending']\n",
    " \n",
    "#calculate the sample parameters\n",
    "confidenceLevel = 0.95 # 95% CI given\n",
    "degrees_freedom = len(data) - 1 # degree of freedom = sample size - 1\n",
    "sampleMean = np.mean(data) # sample mean\n",
    "sampleStandardError = st.sem(data) # sample standard error\n",
    " \n",
    "#create 95% confidence interval for the population mean\n",
    "confidenceInterval = st.t.interval(alpha=confidenceLevel, df=degrees_freedom, loc=sampleMean, scale=sampleStandardError)\n",
    " \n",
    "#print the 95% confidence interval for the population mean\n",
    "print('The 95% confidence interval for the population mean:', confidenceInterval)\n",
    "\n",
    "#There is not a significant difference between the mean of the tow populations."
   ]
  },
  {
   "cell_type": "code",
   "execution_count": 31,
   "id": "5323179d",
   "metadata": {},
   "outputs": [
    {
     "data": {
      "text/plain": [
       "<AxesSubplot:xlabel='Age', ylabel='Spending'>"
      ]
     },
     "execution_count": 31,
     "metadata": {},
     "output_type": "execute_result"
    },
    {
     "data": {
      "image/png": "[encoded data removed]",
      "text/plain": [
       "<Figure size 432x288 with 1 Axes>"
      ]
     },
     "metadata": {
      "needs_background": "light"
     },
     "output_type": "display_data"
    }
   ],
   "source": [
    "#Construct a scatterplot of Spending(y-axis) and Age(x-axis) and add the fitted regression line to it.\n",
    "sns.regplot(x='Age', y='Spending',data=df)\n",
    "\n",
    "#The equation for the simple regression line is Y=b+b1(x)\n",
    "#Age is not a significant predictor of spending. \n",
    "#The majority of spending occurs between the ages of 30-60."
   ]
  },
  {
   "cell_type": "code",
   "execution_count": 32,
   "id": "93f5a592",
   "metadata": {},
   "outputs": [
    {
     "name": "stdout",
     "output_type": "stream",
     "text": [
      "                            OLS Regression Results                            \n",
      "==============================================================================\n",
      "Dep. Variable:               Spending   R-squared:                       0.034\n",
      "Model:                            OLS   Adj. R-squared:                  0.034\n",
      "Method:                 Least Squares   F-statistic:                     142.0\n",
      "Date:                Mon, 29 Aug 2022   Prob (F-statistic):           3.45e-32\n",
      "Time:                        19:59:34   Log-Likelihood:                -35546.\n",
      "No. Observations:                4000   AIC:                         7.110e+04\n",
      "Df Residuals:                    3998   BIC:                         7.111e+04\n",
      "Df Model:                           1                                         \n",
      "Covariance Type:            nonrobust                                         \n",
      "==============================================================================\n",
      "                 coef    std err          t      P>|t|      [0.025      0.975]\n",
      "------------------------------------------------------------------------------\n",
      "Intercept   3882.7779     62.260     62.364      0.000    3760.714    4004.841\n",
      "Loyalty      374.7718     31.454     11.915      0.000     313.105     436.439\n",
      "==============================================================================\n",
      "Omnibus:                      208.499   Durbin-Watson:                   1.854\n",
      "Prob(Omnibus):                  0.000   Jarque-Bera (JB):               91.373\n",
      "Skew:                           0.139   Prob(JB):                     1.44e-20\n",
      "Kurtosis:                       2.314   Cond. No.                         5.40\n",
      "==============================================================================\n",
      "\n",
      "Notes:\n",
      "[1] Standard Errors assume that the covariance matrix of the errors is correctly specified.\n"
     ]
    }
   ],
   "source": [
    "#Run a Linear Regression for Spending(the dependent variable) on Loyalty(the independent variable).Please explain your findings.\n",
    "df['Spending'] = df['Spending']\n",
    "mod = smf.ols('Spending~Loyalty', data=df)\n",
    "res = mod.fit()\n",
    "print(res.summary())\n",
    "\n",
    "#The p-value is very low (below 0.5), whigh means it is very significant. The R-squared is also low which means that the independent variable is not explaining a lot of the dependent variable. I may want to add other variables."
   ]
  },
  {
   "cell_type": "code",
   "execution_count": 33,
   "id": "2fbf6e7d",
   "metadata": {},
   "outputs": [
    {
     "data": {
      "text/html": [
       "<div>\n",
       "<style scoped>\n",
       "    .dataframe tbody tr th:only-of-type {\n",
       "        vertical-align: middle;\n",
       "    }\n",
       "\n",
       "    .dataframe tbody tr th {\n",
       "        vertical-align: top;\n",
       "    }\n",
       "\n",
       "    .dataframe thead th {\n",
       "        text-align: right;\n",
       "    }\n",
       "</style>\n",
       "<table border=\"1\" class=\"dataframe\">\n",
       "  <thead>\n",
       "    <tr style=\"text-align: right;\">\n",
       "      <th></th>\n",
       "      <th>Adopt</th>\n",
       "      <th>Post</th>\n",
       "    </tr>\n",
       "    <tr>\n",
       "      <th>Spending</th>\n",
       "      <th></th>\n",
       "      <th></th>\n",
       "    </tr>\n",
       "  </thead>\n",
       "  <tbody>\n",
       "    <tr>\n",
       "      <th>297</th>\n",
       "      <td>1.0</td>\n",
       "      <td>1.0</td>\n",
       "    </tr>\n",
       "    <tr>\n",
       "      <th>299</th>\n",
       "      <td>1.0</td>\n",
       "      <td>1.0</td>\n",
       "    </tr>\n",
       "    <tr>\n",
       "      <th>337</th>\n",
       "      <td>1.0</td>\n",
       "      <td>1.0</td>\n",
       "    </tr>\n",
       "    <tr>\n",
       "      <th>572</th>\n",
       "      <td>1.0</td>\n",
       "      <td>1.0</td>\n",
       "    </tr>\n",
       "    <tr>\n",
       "      <th>578</th>\n",
       "      <td>1.0</td>\n",
       "      <td>1.0</td>\n",
       "    </tr>\n",
       "    <tr>\n",
       "      <th>...</th>\n",
       "      <td>...</td>\n",
       "      <td>...</td>\n",
       "    </tr>\n",
       "    <tr>\n",
       "      <th>9750</th>\n",
       "      <td>1.0</td>\n",
       "      <td>0.0</td>\n",
       "    </tr>\n",
       "    <tr>\n",
       "      <th>9760</th>\n",
       "      <td>1.0</td>\n",
       "      <td>0.0</td>\n",
       "    </tr>\n",
       "    <tr>\n",
       "      <th>10110</th>\n",
       "      <td>1.0</td>\n",
       "      <td>0.0</td>\n",
       "    </tr>\n",
       "    <tr>\n",
       "      <th>10432</th>\n",
       "      <td>1.0</td>\n",
       "      <td>0.0</td>\n",
       "    </tr>\n",
       "    <tr>\n",
       "      <th>11377</th>\n",
       "      <td>1.0</td>\n",
       "      <td>0.0</td>\n",
       "    </tr>\n",
       "  </tbody>\n",
       "</table>\n",
       "<p>1755 rows × 2 columns</p>\n",
       "</div>"
      ],
      "text/plain": [
       "          Adopt  Post\n",
       "Spending             \n",
       "297         1.0   1.0\n",
       "299         1.0   1.0\n",
       "337         1.0   1.0\n",
       "572         1.0   1.0\n",
       "578         1.0   1.0\n",
       "...         ...   ...\n",
       "9750        1.0   0.0\n",
       "9760        1.0   0.0\n",
       "10110       1.0   0.0\n",
       "10432       1.0   0.0\n",
       "11377       1.0   0.0\n",
       "\n",
       "[1755 rows x 2 columns]"
      ]
     },
     "execution_count": 33,
     "metadata": {},
     "output_type": "execute_result"
    }
   ],
   "source": [
    "#Determine the app's effectiveness on the customer's spending. Construct a pivot table broken up by Adaopt and Post.\n",
    "#What is the difference between the treatment and control groups in the Post=1 period?\n",
    "df.pivot_table(['Post','Adopt'],index= 'Spending' )"
   ]
  },
  {
   "cell_type": "code",
   "execution_count": 34,
   "id": "78d78eb5",
   "metadata": {},
   "outputs": [
    {
     "name": "stdout",
     "output_type": "stream",
     "text": [
      "                            OLS Regression Results                            \n",
      "==============================================================================\n",
      "Dep. Variable:               Spending   R-squared:                       0.031\n",
      "Model:                            OLS   Adj. R-squared:                  0.031\n",
      "Method:                 Least Squares   F-statistic:                     129.2\n",
      "Date:                Mon, 29 Aug 2022   Prob (F-statistic):           1.76e-29\n",
      "Time:                        19:59:35   Log-Likelihood:                -35552.\n",
      "No. Observations:                4000   AIC:                         7.111e+04\n",
      "Df Residuals:                    3998   BIC:                         7.112e+04\n",
      "Df Model:                           1                                         \n",
      "Covariance Type:            nonrobust                                         \n",
      "==============================================================================\n",
      "                 coef    std err          t      P>|t|      [0.025      0.975]\n",
      "------------------------------------------------------------------------------\n",
      "Intercept   4862.3235     39.207    124.017      0.000    4785.456    4939.191\n",
      "Post        -630.1505     55.447    -11.365      0.000    -738.858    -521.443\n",
      "==============================================================================\n",
      "Omnibus:                      228.988   Durbin-Watson:                   1.916\n",
      "Prob(Omnibus):                  0.000   Jarque-Bera (JB):               91.256\n",
      "Skew:                           0.099   Prob(JB):                     1.53e-20\n",
      "Kurtosis:                       2.287   Cond. No.                         2.62\n",
      "==============================================================================\n",
      "\n",
      "Notes:\n",
      "[1] Standard Errors assume that the covariance matrix of the errors is correctly specified.\n"
     ]
    }
   ],
   "source": [
    "#Run a regression with Spending as the dependent variable and Adpot as the independent variable.\n",
    "df['Spending'] = df['Spending']\n",
    "mod = smf.ols('Spending~Post', data=df)\n",
    "res = mod.fit()\n",
    "print(res.summary())\n",
    "#Post is not statistically significant. R-square is low and the P-value is 0."
   ]
  },
  {
   "cell_type": "code",
   "execution_count": 35,
   "id": "db0d5225",
   "metadata": {},
   "outputs": [
    {
     "name": "stdout",
     "output_type": "stream",
     "text": [
      "                            OLS Regression Results                            \n",
      "==============================================================================\n",
      "Dep. Variable:               Spending   R-squared:                       0.054\n",
      "Model:                            OLS   Adj. R-squared:                  0.053\n",
      "Method:                 Least Squares   F-statistic:                     56.77\n",
      "Date:                Mon, 29 Aug 2022   Prob (F-statistic):           1.19e-46\n",
      "Time:                        19:59:35   Log-Likelihood:                -35505.\n",
      "No. Observations:                4000   AIC:                         7.102e+04\n",
      "Df Residuals:                    3995   BIC:                         7.105e+04\n",
      "Df Model:                           4                                         \n",
      "Covariance Type:            nonrobust                                         \n",
      "==================================================================================\n",
      "                     coef    std err          t      P>|t|      [0.025      0.975]\n",
      "----------------------------------------------------------------------------------\n",
      "Intercept       3528.1728    145.172     24.303      0.000    3243.555    3812.790\n",
      "Gender[T.Male]   144.3461     56.449      2.557      0.011      33.674     255.018\n",
      "Post            -630.1505     54.820    -11.495      0.000    -737.629    -522.672\n",
      "Age               25.4843      2.754      9.254      0.000      20.085      30.883\n",
      "Nationality      111.7519     67.787      1.649      0.099     -21.148     244.652\n",
      "==============================================================================\n",
      "Omnibus:                      297.803   Durbin-Watson:                   1.906\n",
      "Prob(Omnibus):                  0.000   Jarque-Bera (JB):              106.374\n",
      "Skew:                           0.109   Prob(JB):                     7.97e-24\n",
      "Kurtosis:                       2.231   Cond. No.                         252.\n",
      "==============================================================================\n",
      "\n",
      "Notes:\n",
      "[1] Standard Errors assume that the covariance matrix of the errors is correctly specified.\n"
     ]
    }
   ],
   "source": [
    "df['Spending'] = df['Spending']\n",
    "mod = smf.ols('Spending~Post+Gender+Age+Nationality', data=df)\n",
    "res = mod.fit()\n",
    "print(res.summary())\n",
    "#When additional variables are added there is an increase in R-squared to.05. The P-value remains low when additional vairables are added to the regression."
   ]
  },
  {
   "cell_type": "code",
   "execution_count": 36,
   "id": "92510967",
   "metadata": {},
   "outputs": [
    {
     "name": "stdout",
     "output_type": "stream",
     "text": [
      "                            OLS Regression Results                            \n",
      "==============================================================================\n",
      "Dep. Variable:               Spending   R-squared:                       0.021\n",
      "Model:                            OLS   Adj. R-squared:                  0.021\n",
      "Method:                 Least Squares   F-statistic:                     86.17\n",
      "Date:                Mon, 29 Aug 2022   Prob (F-statistic):           2.64e-20\n",
      "Time:                        19:59:35   Log-Likelihood:                -35573.\n",
      "No. Observations:                4000   AIC:                         7.115e+04\n",
      "Df Residuals:                    3998   BIC:                         7.116e+04\n",
      "Df Model:                           1                                         \n",
      "Covariance Type:            nonrobust                                         \n",
      "==============================================================================\n",
      "                 coef    std err          t      P>|t|      [0.025      0.975]\n",
      "------------------------------------------------------------------------------\n",
      "Intercept   4288.5480     39.413    108.811      0.000    4211.277    4365.819\n",
      "Adopt        517.4005     55.738      9.283      0.000     408.123     626.678\n",
      "==============================================================================\n",
      "Omnibus:                      176.570   Durbin-Watson:                   1.896\n",
      "Prob(Omnibus):                  0.000   Jarque-Bera (JB):               74.290\n",
      "Skew:                           0.036   Prob(JB):                     7.38e-17\n",
      "Kurtosis:                       2.336   Cond. No.                         2.62\n",
      "==============================================================================\n",
      "\n",
      "Notes:\n",
      "[1] Standard Errors assume that the covariance matrix of the errors is correctly specified.\n"
     ]
    }
   ],
   "source": [
    "df['Spending'] = df['Spending']\n",
    "mod = smf.ols('Spending~Adopt', data=df)\n",
    "res = mod.fit()\n",
    "print(res.summary())\n",
    "#The R-squared is below .05 and the P-value is 0. "
   ]
  },
  {
   "cell_type": "code",
   "execution_count": 37,
   "id": "bb87c1e1",
   "metadata": {},
   "outputs": [
    {
     "name": "stdout",
     "output_type": "stream",
     "text": [
      "                            OLS Regression Results                            \n",
      "==============================================================================\n",
      "Dep. Variable:               Spending   R-squared:                       0.057\n",
      "Model:                            OLS   Adj. R-squared:                  0.056\n",
      "Method:                 Least Squares   F-statistic:                     60.13\n",
      "Date:                Mon, 29 Aug 2022   Prob (F-statistic):           2.22e-49\n",
      "Time:                        19:59:35   Log-Likelihood:                -35499.\n",
      "No. Observations:                4000   AIC:                         7.101e+04\n",
      "Df Residuals:                    3995   BIC:                         7.104e+04\n",
      "Df Model:                           4                                         \n",
      "Covariance Type:            nonrobust                                         \n",
      "==================================================================================\n",
      "                     coef    std err          t      P>|t|      [0.025      0.975]\n",
      "----------------------------------------------------------------------------------\n",
      "Intercept       3455.8727     92.458     37.378      0.000    3274.603    3637.142\n",
      "Gender[T.Male]   127.1335     56.364      2.256      0.024      16.629     237.638\n",
      "Adopt            507.9684     54.747      9.279      0.000     400.634     615.302\n",
      "Nationality      127.1856     67.673      1.879      0.060      -5.491     259.862\n",
      "Loyalty          370.9590     31.100     11.928      0.000     309.986     431.932\n",
      "==============================================================================\n",
      "Omnibus:                      231.537   Durbin-Watson:                   1.892\n",
      "Prob(Omnibus):                  0.000   Jarque-Bera (JB):               87.837\n",
      "Skew:                           0.047   Prob(JB):                     8.44e-20\n",
      "Kurtosis:                       2.280   Cond. No.                         9.51\n",
      "==============================================================================\n",
      "\n",
      "Notes:\n",
      "[1] Standard Errors assume that the covariance matrix of the errors is correctly specified.\n"
     ]
    }
   ],
   "source": [
    "df['Spending'] = df['Spending']\n",
    "mod = smf.ols('Spending~Adopt+Gender+Nationality+Loyalty', data=df)\n",
    "res = mod.fit()\n",
    "print(res.summary())\n",
    "#With additional variables there is little difference. Adopt has the highest p-value at .06 in the Natioanlity category."
   ]
  },
  {
   "cell_type": "code",
   "execution_count": 38,
   "id": "9228061c",
   "metadata": {},
   "outputs": [
    {
     "name": "stdout",
     "output_type": "stream",
     "text": [
      "0       0\n",
      "1       0\n",
      "2       0\n",
      "3       0\n",
      "4       0\n",
      "       ..\n",
      "3995    0\n",
      "3996    0\n",
      "3997    0\n",
      "3998    0\n",
      "3999    0\n",
      "Name: Post, Length: 4000, dtype: int64\n"
     ]
    }
   ],
   "source": [
    "#6. Constuct a new dataframe where each customer, you have a new variable, with is the difference in spending between Post = 1 and Post = 0.\n",
    "DiffInSpending= df['Post']-df['Post']\n",
    "print(DiffInSpending)\n"
   ]
  },
  {
   "cell_type": "code",
   "execution_count": 39,
   "id": "9edc3e78",
   "metadata": {},
   "outputs": [
    {
     "data": {
      "text/html": [
       "<div>\n",
       "<style scoped>\n",
       "    .dataframe tbody tr th:only-of-type {\n",
       "        vertical-align: middle;\n",
       "    }\n",
       "\n",
       "    .dataframe tbody tr th {\n",
       "        vertical-align: top;\n",
       "    }\n",
       "\n",
       "    .dataframe thead th {\n",
       "        text-align: right;\n",
       "    }\n",
       "</style>\n",
       "<table border=\"1\" class=\"dataframe\">\n",
       "  <thead>\n",
       "    <tr style=\"text-align: right;\">\n",
       "      <th></th>\n",
       "      <th>CustomerID</th>\n",
       "      <th>Adopt</th>\n",
       "      <th>Gender</th>\n",
       "      <th>Age</th>\n",
       "      <th>Nationality</th>\n",
       "      <th>Loyalty</th>\n",
       "      <th>Tenure</th>\n",
       "      <th>Post</th>\n",
       "      <th>NumBookings</th>\n",
       "      <th>Spending</th>\n",
       "      <th>DiffInSpending</th>\n",
       "    </tr>\n",
       "  </thead>\n",
       "  <tbody>\n",
       "    <tr>\n",
       "      <th>0</th>\n",
       "      <td>1001</td>\n",
       "      <td>1</td>\n",
       "      <td>Male</td>\n",
       "      <td>34</td>\n",
       "      <td>1</td>\n",
       "      <td>2</td>\n",
       "      <td>57</td>\n",
       "      <td>0</td>\n",
       "      <td>18</td>\n",
       "      <td>5760</td>\n",
       "      <td>0</td>\n",
       "    </tr>\n",
       "    <tr>\n",
       "      <th>1</th>\n",
       "      <td>1002</td>\n",
       "      <td>1</td>\n",
       "      <td>Female</td>\n",
       "      <td>36</td>\n",
       "      <td>1</td>\n",
       "      <td>2</td>\n",
       "      <td>5</td>\n",
       "      <td>0</td>\n",
       "      <td>6</td>\n",
       "      <td>1830</td>\n",
       "      <td>0</td>\n",
       "    </tr>\n",
       "    <tr>\n",
       "      <th>2</th>\n",
       "      <td>1003</td>\n",
       "      <td>1</td>\n",
       "      <td>Female</td>\n",
       "      <td>43</td>\n",
       "      <td>1</td>\n",
       "      <td>1</td>\n",
       "      <td>12</td>\n",
       "      <td>0</td>\n",
       "      <td>9</td>\n",
       "      <td>2682</td>\n",
       "      <td>0</td>\n",
       "    </tr>\n",
       "    <tr>\n",
       "      <th>3</th>\n",
       "      <td>1004</td>\n",
       "      <td>1</td>\n",
       "      <td>Male</td>\n",
       "      <td>47</td>\n",
       "      <td>1</td>\n",
       "      <td>1</td>\n",
       "      <td>70</td>\n",
       "      <td>0</td>\n",
       "      <td>21</td>\n",
       "      <td>6846</td>\n",
       "      <td>0</td>\n",
       "    </tr>\n",
       "    <tr>\n",
       "      <th>4</th>\n",
       "      <td>1005</td>\n",
       "      <td>1</td>\n",
       "      <td>Male</td>\n",
       "      <td>41</td>\n",
       "      <td>1</td>\n",
       "      <td>2</td>\n",
       "      <td>13</td>\n",
       "      <td>0</td>\n",
       "      <td>11</td>\n",
       "      <td>3377</td>\n",
       "      <td>0</td>\n",
       "    </tr>\n",
       "    <tr>\n",
       "      <th>...</th>\n",
       "      <td>...</td>\n",
       "      <td>...</td>\n",
       "      <td>...</td>\n",
       "      <td>...</td>\n",
       "      <td>...</td>\n",
       "      <td>...</td>\n",
       "      <td>...</td>\n",
       "      <td>...</td>\n",
       "      <td>...</td>\n",
       "      <td>...</td>\n",
       "      <td>...</td>\n",
       "    </tr>\n",
       "    <tr>\n",
       "      <th>3995</th>\n",
       "      <td>996</td>\n",
       "      <td>0</td>\n",
       "      <td>Male</td>\n",
       "      <td>25</td>\n",
       "      <td>1</td>\n",
       "      <td>1</td>\n",
       "      <td>16</td>\n",
       "      <td>1</td>\n",
       "      <td>5</td>\n",
       "      <td>1420</td>\n",
       "      <td>0</td>\n",
       "    </tr>\n",
       "    <tr>\n",
       "      <th>3996</th>\n",
       "      <td>997</td>\n",
       "      <td>0</td>\n",
       "      <td>Female</td>\n",
       "      <td>51</td>\n",
       "      <td>0</td>\n",
       "      <td>1</td>\n",
       "      <td>54</td>\n",
       "      <td>1</td>\n",
       "      <td>15</td>\n",
       "      <td>4395</td>\n",
       "      <td>0</td>\n",
       "    </tr>\n",
       "    <tr>\n",
       "      <th>3997</th>\n",
       "      <td>998</td>\n",
       "      <td>0</td>\n",
       "      <td>Female</td>\n",
       "      <td>39</td>\n",
       "      <td>1</td>\n",
       "      <td>2</td>\n",
       "      <td>58</td>\n",
       "      <td>1</td>\n",
       "      <td>18</td>\n",
       "      <td>5166</td>\n",
       "      <td>0</td>\n",
       "    </tr>\n",
       "    <tr>\n",
       "      <th>3998</th>\n",
       "      <td>999</td>\n",
       "      <td>0</td>\n",
       "      <td>Male</td>\n",
       "      <td>23</td>\n",
       "      <td>1</td>\n",
       "      <td>4</td>\n",
       "      <td>57</td>\n",
       "      <td>1</td>\n",
       "      <td>18</td>\n",
       "      <td>4896</td>\n",
       "      <td>0</td>\n",
       "    </tr>\n",
       "    <tr>\n",
       "      <th>3999</th>\n",
       "      <td>1000</td>\n",
       "      <td>0</td>\n",
       "      <td>Male</td>\n",
       "      <td>45</td>\n",
       "      <td>1</td>\n",
       "      <td>1</td>\n",
       "      <td>3</td>\n",
       "      <td>1</td>\n",
       "      <td>7</td>\n",
       "      <td>1470</td>\n",
       "      <td>0</td>\n",
       "    </tr>\n",
       "  </tbody>\n",
       "</table>\n",
       "<p>4000 rows × 11 columns</p>\n",
       "</div>"
      ],
      "text/plain": [
       "      CustomerID  Adopt  Gender  Age  Nationality  Loyalty  Tenure  Post  \\\n",
       "0           1001      1    Male   34            1        2      57     0   \n",
       "1           1002      1  Female   36            1        2       5     0   \n",
       "2           1003      1  Female   43            1        1      12     0   \n",
       "3           1004      1    Male   47            1        1      70     0   \n",
       "4           1005      1    Male   41            1        2      13     0   \n",
       "...          ...    ...     ...  ...          ...      ...     ...   ...   \n",
       "3995         996      0    Male   25            1        1      16     1   \n",
       "3996         997      0  Female   51            0        1      54     1   \n",
       "3997         998      0  Female   39            1        2      58     1   \n",
       "3998         999      0    Male   23            1        4      57     1   \n",
       "3999        1000      0    Male   45            1        1       3     1   \n",
       "\n",
       "      NumBookings  Spending  DiffInSpending  \n",
       "0              18      5760               0  \n",
       "1               6      1830               0  \n",
       "2               9      2682               0  \n",
       "3              21      6846               0  \n",
       "4              11      3377               0  \n",
       "...           ...       ...             ...  \n",
       "3995            5      1420               0  \n",
       "3996           15      4395               0  \n",
       "3997           18      5166               0  \n",
       "3998           18      4896               0  \n",
       "3999            7      1470               0  \n",
       "\n",
       "[4000 rows x 11 columns]"
      ]
     },
     "execution_count": 39,
     "metadata": {},
     "output_type": "execute_result"
    }
   ],
   "source": [
    "df6 = df.assign(DiffInSpending=0)\n",
    "df6"
   ]
  },
  {
   "cell_type": "code",
   "execution_count": 40,
   "id": "be12c916",
   "metadata": {},
   "outputs": [
    {
     "name": "stdout",
     "output_type": "stream",
     "text": [
      "                            OLS Regression Results                            \n",
      "==============================================================================\n",
      "Dep. Variable:                  Adopt   R-squared:                       0.000\n",
      "Model:                            OLS   Adj. R-squared:                  0.000\n",
      "Method:                 Least Squares   F-statistic:                       nan\n",
      "Date:                Mon, 29 Aug 2022   Prob (F-statistic):                nan\n",
      "Time:                        19:59:35   Log-Likelihood:                -2903.2\n",
      "No. Observations:                4000   AIC:                             5808.\n",
      "Df Residuals:                    3999   BIC:                             5815.\n",
      "Df Model:                           0                                         \n",
      "Covariance Type:            nonrobust                                         \n",
      "==================================================================================\n",
      "                     coef    std err          t      P>|t|      [0.025      0.975]\n",
      "----------------------------------------------------------------------------------\n",
      "Intercept          0.5000      0.008     63.238      0.000       0.484       0.516\n",
      "DiffInSpending          0          0        nan        nan           0           0\n",
      "==============================================================================\n",
      "Omnibus:                    13971.591   Durbin-Watson:                   0.001\n",
      "Prob(Omnibus):                  0.000   Jarque-Bera (JB):              666.667\n",
      "Skew:                          -0.000   Prob(JB):                    1.72e-145\n",
      "Kurtosis:                       1.000   Cond. No.                          inf\n",
      "==============================================================================\n",
      "\n",
      "Notes:\n",
      "[1] Standard Errors assume that the covariance matrix of the errors is correctly specified.\n",
      "[2] The smallest eigenvalue is      0. This might indicate that there are\n",
      "strong multicollinearity problems or that the design matrix is singular.\n"
     ]
    },
    {
     "name": "stderr",
     "output_type": "stream",
     "text": [
      "C:\\Users\\rashi\\anaconda3\\lib\\site-packages\\statsmodels\\regression\\linear_model.py:1918: RuntimeWarning: divide by zero encountered in double_scalars\n",
      "  return np.sqrt(eigvals[0]/eigvals[-1])\n"
     ]
    }
   ],
   "source": [
    "#Run a regression for this difference in spending on Adopt. What is the coefficient for Adopt?\n",
    "df6['DiffInSpending'] = df6['DiffInSpending']\n",
    "mod = smf.ols('Adopt~DiffInSpending', data=df6)\n",
    "res = mod.fit()\n",
    "print(res.summary())\n",
    "#The coefficient is 0.5."
   ]
  },
  {
   "cell_type": "code",
   "execution_count": 41,
   "id": "6dc0b4ff",
   "metadata": {},
   "outputs": [
    {
     "data": {
      "text/html": [
       "<div>\n",
       "<style scoped>\n",
       "    .dataframe tbody tr th:only-of-type {\n",
       "        vertical-align: middle;\n",
       "    }\n",
       "\n",
       "    .dataframe tbody tr th {\n",
       "        vertical-align: top;\n",
       "    }\n",
       "\n",
       "    .dataframe thead th {\n",
       "        text-align: right;\n",
       "    }\n",
       "</style>\n",
       "<table border=\"1\" class=\"dataframe\">\n",
       "  <thead>\n",
       "    <tr style=\"text-align: right;\">\n",
       "      <th></th>\n",
       "      <th>Adopt</th>\n",
       "      <th>Post</th>\n",
       "    </tr>\n",
       "    <tr>\n",
       "      <th>Spending</th>\n",
       "      <th></th>\n",
       "      <th></th>\n",
       "    </tr>\n",
       "  </thead>\n",
       "  <tbody>\n",
       "    <tr>\n",
       "      <th>297</th>\n",
       "      <td>1.0</td>\n",
       "      <td>1.0</td>\n",
       "    </tr>\n",
       "    <tr>\n",
       "      <th>299</th>\n",
       "      <td>1.0</td>\n",
       "      <td>1.0</td>\n",
       "    </tr>\n",
       "    <tr>\n",
       "      <th>337</th>\n",
       "      <td>1.0</td>\n",
       "      <td>1.0</td>\n",
       "    </tr>\n",
       "    <tr>\n",
       "      <th>572</th>\n",
       "      <td>1.0</td>\n",
       "      <td>1.0</td>\n",
       "    </tr>\n",
       "    <tr>\n",
       "      <th>578</th>\n",
       "      <td>1.0</td>\n",
       "      <td>1.0</td>\n",
       "    </tr>\n",
       "    <tr>\n",
       "      <th>...</th>\n",
       "      <td>...</td>\n",
       "      <td>...</td>\n",
       "    </tr>\n",
       "    <tr>\n",
       "      <th>9750</th>\n",
       "      <td>1.0</td>\n",
       "      <td>0.0</td>\n",
       "    </tr>\n",
       "    <tr>\n",
       "      <th>9760</th>\n",
       "      <td>1.0</td>\n",
       "      <td>0.0</td>\n",
       "    </tr>\n",
       "    <tr>\n",
       "      <th>10110</th>\n",
       "      <td>1.0</td>\n",
       "      <td>0.0</td>\n",
       "    </tr>\n",
       "    <tr>\n",
       "      <th>10432</th>\n",
       "      <td>1.0</td>\n",
       "      <td>0.0</td>\n",
       "    </tr>\n",
       "    <tr>\n",
       "      <th>11377</th>\n",
       "      <td>1.0</td>\n",
       "      <td>0.0</td>\n",
       "    </tr>\n",
       "  </tbody>\n",
       "</table>\n",
       "<p>1755 rows × 2 columns</p>\n",
       "</div>"
      ],
      "text/plain": [
       "          Adopt  Post\n",
       "Spending             \n",
       "297         1.0   1.0\n",
       "299         1.0   1.0\n",
       "337         1.0   1.0\n",
       "572         1.0   1.0\n",
       "578         1.0   1.0\n",
       "...         ...   ...\n",
       "9750        1.0   0.0\n",
       "9760        1.0   0.0\n",
       "10110       1.0   0.0\n",
       "10432       1.0   0.0\n",
       "11377       1.0   0.0\n",
       "\n",
       "[1755 rows x 2 columns]"
      ]
     },
     "execution_count": 41,
     "metadata": {},
     "output_type": "execute_result"
    }
   ],
   "source": [
    "#Using the the pivot table from Question 5, compute the average diffence between Adopt=1 and Adopt=0 in both Post =1 and Post=0 period. Call it Difference1 and Difference0.\n",
    "table = df.pivot_table(['Post','Adopt'],index= 'Spending' )\n",
    "table"
   ]
  },
  {
   "cell_type": "code",
   "execution_count": 58,
   "id": "affcfe8c",
   "metadata": {},
   "outputs": [
    {
     "data": {
      "text/html": [
       "<div>\n",
       "<style scoped>\n",
       "    .dataframe tbody tr th:only-of-type {\n",
       "        vertical-align: middle;\n",
       "    }\n",
       "\n",
       "    .dataframe tbody tr th {\n",
       "        vertical-align: top;\n",
       "    }\n",
       "\n",
       "    .dataframe thead th {\n",
       "        text-align: right;\n",
       "    }\n",
       "</style>\n",
       "<table border=\"1\" class=\"dataframe\">\n",
       "  <thead>\n",
       "    <tr style=\"text-align: right;\">\n",
       "      <th></th>\n",
       "      <th>Adopt</th>\n",
       "      <th>Post</th>\n",
       "    </tr>\n",
       "  </thead>\n",
       "  <tbody>\n",
       "    <tr>\n",
       "      <th>Adopt</th>\n",
       "      <td>1.000000</td>\n",
       "      <td>0.001662</td>\n",
       "    </tr>\n",
       "    <tr>\n",
       "      <th>Post</th>\n",
       "      <td>0.001662</td>\n",
       "      <td>1.000000</td>\n",
       "    </tr>\n",
       "  </tbody>\n",
       "</table>\n",
       "</div>"
      ],
      "text/plain": [
       "          Adopt      Post\n",
       "Adopt  1.000000  0.001662\n",
       "Post   0.001662  1.000000"
      ]
     },
     "execution_count": 58,
     "metadata": {},
     "output_type": "execute_result"
    }
   ],
   "source": [
    "table.corr()"
   ]
  },
  {
   "cell_type": "code",
   "execution_count": 56,
   "id": "c3a6174d",
   "metadata": {},
   "outputs": [
    {
     "data": {
      "text/plain": [
       "0.0"
      ]
     },
     "execution_count": 56,
     "metadata": {},
     "output_type": "execute_result"
    }
   ],
   "source": [
    "#Difference1\n",
    "Difference1 = table['Adopt']-table['Adopt']\n",
    "Difference1.mean()"
   ]
  },
  {
   "cell_type": "code",
   "execution_count": 55,
   "id": "14914da7",
   "metadata": {},
   "outputs": [
    {
     "data": {
      "text/plain": [
       "0.0"
      ]
     },
     "execution_count": 55,
     "metadata": {},
     "output_type": "execute_result"
    }
   ],
   "source": [
    "#Difference0\n",
    "Difference0 = table['Post']-table['Post']\n",
    "Difference0.mean()"
   ]
  },
  {
   "cell_type": "code",
   "execution_count": 57,
   "id": "aa6d9861",
   "metadata": {},
   "outputs": [
    {
     "data": {
      "text/plain": [
       "0.0"
      ]
     },
     "execution_count": 57,
     "metadata": {},
     "output_type": "execute_result"
    }
   ],
   "source": [
    "#Compute the difference between the two Differences. \n",
    "BeforeAfterDesign = Difference1-Difference0\n",
    "BeforeAfterDesign.mean()\n",
    "\n",
    "#The Coefficient in point 1 is 0. The diffence is 0 also."
   ]
  },
  {
   "cell_type": "code",
   "execution_count": null,
   "id": "42fad99c",
   "metadata": {},
   "outputs": [],
   "source": []
  }
 ],
 "metadata": {
  "kernelspec": {
   "display_name": "Python 3 (ipykernel)",
   "language": "python",
   "name": "python3"
  },
  "language_info": {
   "codemirror_mode": {
    "name": "ipython",
    "version": 3
   },
   "file_extension": ".py",
   "mimetype": "text/x-python",
   "name": "python",
   "nbconvert_exporter": "python",
   "pygments_lexer": "ipython3",
   "version": "3.9.7"
  }
 },
 "nbformat": 4,
 "nbformat_minor": 5
}
